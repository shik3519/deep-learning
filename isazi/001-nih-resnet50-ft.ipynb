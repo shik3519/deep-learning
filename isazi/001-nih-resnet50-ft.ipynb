{
 "cells": [
  {
   "cell_type": "code",
   "execution_count": 1,
   "metadata": {},
   "outputs": [],
   "source": [
    "#imports\n",
    "%matplotlib inline\n",
    "%reload_ext autoreload\n",
    "%autoreload 2\n",
    "\n",
    "import torch\n",
    "\n",
    "from fastai.conv_learner import *\n",
    "from fastai.dataset import *\n",
    "\n",
    "from pathlib import Path\n",
    "import json\n",
    "from PIL import ImageDraw, ImageFont\n",
    "from matplotlib import patches, patheffects\n",
    "\n",
    "import multiprocessing\n",
    "from functools import partial\n",
    "import shutil\n",
    "import itertools\n",
    "\n",
    "from sklearn.metrics import roc_auc_score,fbeta_score,accuracy_score"
   ]
  },
  {
   "cell_type": "code",
   "execution_count": 2,
   "metadata": {},
   "outputs": [],
   "source": [
    "from torchvision import datasets, models, transforms,utils"
   ]
  },
  {
   "cell_type": "code",
   "execution_count": 3,
   "metadata": {},
   "outputs": [],
   "source": [
    "from pdb import set_trace"
   ]
  },
  {
   "cell_type": "code",
   "execution_count": 4,
   "metadata": {},
   "outputs": [],
   "source": [
    "cuda.set_device(0) #choosing GPU 1"
   ]
  },
  {
   "cell_type": "code",
   "execution_count": 5,
   "metadata": {},
   "outputs": [],
   "source": [
    "def auc_avg(pred, target):\n",
    "    '''\n",
    "    Computes mean ROC-AUC by averaging AUC for each class (mini-batch)\n",
    "    args:\n",
    "    pred: torch tensor, probability prediction from the network (batch size x n_classes)\n",
    "    target: torch tensor, True binary labels (batch size x n_classes)\n",
    "    \n",
    "    output:\n",
    "    average AUC score\n",
    "    '''\n",
    "    aucs = []\n",
    "    n_class = target.size()[1]\n",
    "    target_np = target.cpu().numpy()\n",
    "    pred_np = pred.cpu().numpy()\n",
    "    for i in range(n_class):\n",
    "        if target_np[:, i].sum() > 0:\n",
    "            aucs.append(roc_auc_score(target_np[:, i], pred_np[:, i]))\n",
    "    return np.mean(aucs)"
   ]
  },
  {
   "cell_type": "code",
   "execution_count": 6,
   "metadata": {},
   "outputs": [],
   "source": [
    "def auc_avg(pred, target):\n",
    "    '''\n",
    "    Computes mean ROC-AUC by averaging AUC for each class\n",
    "    args:\n",
    "    pred: torch tensor, probability prediction from the network (batch size x n_classes)\n",
    "    target: torch tensor, True binary labels (batch size x n_classes)\n",
    "    \n",
    "    output:\n",
    "    average AUC score\n",
    "    '''\n",
    "    aucs = []\n",
    "    n_class = target.size()[1]\n",
    "    target_np = target.cpu().numpy()\n",
    "    pred_np = pred.cpu().numpy()\n",
    "    for i in range(n_class):\n",
    "        if target_np[:, i].sum() > 0:\n",
    "            aucs.append(roc_auc_score(target_np[:, i], pred_np[:, i]))\n",
    "    return np.mean(aucs)"
   ]
  },
  {
   "cell_type": "code",
   "execution_count": 7,
   "metadata": {},
   "outputs": [],
   "source": [
    "def compute_aucs(pred, target):\n",
    "    '''\n",
    "    Computes AUC for each class\n",
    "    args:\n",
    "    pred: numpy array, probability prediction from the network (batch size x n_classes)\n",
    "    target: numpy array, True binary labels (batch size x n_classes)\n",
    "    \n",
    "    output:\n",
    "    List of AUC for each class\n",
    "    '''\n",
    "    aucs = []\n",
    "    n_class = target.shape[1]\n",
    "    for i in range(n_class):\n",
    "        if target[:, i].sum() > 0:\n",
    "            aucs.append(roc_auc_score(target[:, i], pred[:, i]))\n",
    "    return aucs"
   ]
  },
  {
   "cell_type": "code",
   "execution_count": 8,
   "metadata": {},
   "outputs": [],
   "source": [
    "def bulk_copyfiles(filelist, source, destination, overwrite = True):\n",
    "    '''\n",
    "    filelist: list of filenames you need to copy\n",
    "    source: source directory\n",
    "    destination: destination directory\n",
    "    '''\n",
    "    if os.path.exists(destination) and overwrite: shutil.rmtree(destination)\n",
    "    os.makedirs(destination, exist_ok=True)\n",
    "    for fname in filelist:\n",
    "        if os.path.exists(source + fname):\n",
    "            shutil.copy(os.path.join(source, fname), destination)"
   ]
  },
  {
   "cell_type": "markdown",
   "metadata": {},
   "source": [
    "Defining indices for training, validation and test images"
   ]
  },
  {
   "cell_type": "code",
   "execution_count": 9,
   "metadata": {},
   "outputs": [],
   "source": [
    "trn_list = pd.read_csv('data/labels/train_list.txt',header=None)"
   ]
  },
  {
   "cell_type": "code",
   "execution_count": 10,
   "metadata": {},
   "outputs": [],
   "source": [
    "trn_imgs = list(trn_list[0].apply(lambda x: x.split(' ')[0]))"
   ]
  },
  {
   "cell_type": "code",
   "execution_count": 11,
   "metadata": {},
   "outputs": [
    {
     "data": {
      "text/plain": [
       "78468"
      ]
     },
     "execution_count": 11,
     "metadata": {},
     "output_type": "execute_result"
    }
   ],
   "source": [
    "len(trn_imgs)"
   ]
  },
  {
   "cell_type": "code",
   "execution_count": 12,
   "metadata": {},
   "outputs": [
    {
     "data": {
      "text/html": [
       "<div>\n",
       "<style scoped>\n",
       "    .dataframe tbody tr th:only-of-type {\n",
       "        vertical-align: middle;\n",
       "    }\n",
       "\n",
       "    .dataframe tbody tr th {\n",
       "        vertical-align: top;\n",
       "    }\n",
       "\n",
       "    .dataframe thead th {\n",
       "        text-align: right;\n",
       "    }\n",
       "</style>\n",
       "<table border=\"1\" class=\"dataframe\">\n",
       "  <thead>\n",
       "    <tr style=\"text-align: right;\">\n",
       "      <th></th>\n",
       "      <th>0</th>\n",
       "    </tr>\n",
       "  </thead>\n",
       "  <tbody>\n",
       "    <tr>\n",
       "      <th>0</th>\n",
       "      <td>00028178_000.png 0 0 0 0 0 0 0 0 0 0 0 0 0 0</td>\n",
       "    </tr>\n",
       "    <tr>\n",
       "      <th>1</th>\n",
       "      <td>00030605_000.png 0 0 0 1 0 0 0 0 0 0 0 0 0 0</td>\n",
       "    </tr>\n",
       "    <tr>\n",
       "      <th>2</th>\n",
       "      <td>00011297_000.png 0 0 0 0 0 0 0 0 0 0 0 0 0 0</td>\n",
       "    </tr>\n",
       "    <tr>\n",
       "      <th>3</th>\n",
       "      <td>00011297_001.png 0 0 0 0 0 0 0 0 0 0 0 0 0 0</td>\n",
       "    </tr>\n",
       "    <tr>\n",
       "      <th>4</th>\n",
       "      <td>00016540_000.png 0 0 0 0 0 0 0 0 0 0 0 0 0 0</td>\n",
       "    </tr>\n",
       "  </tbody>\n",
       "</table>\n",
       "</div>"
      ],
      "text/plain": [
       "                                              0\n",
       "0  00028178_000.png 0 0 0 0 0 0 0 0 0 0 0 0 0 0\n",
       "1  00030605_000.png 0 0 0 1 0 0 0 0 0 0 0 0 0 0\n",
       "2  00011297_000.png 0 0 0 0 0 0 0 0 0 0 0 0 0 0\n",
       "3  00011297_001.png 0 0 0 0 0 0 0 0 0 0 0 0 0 0\n",
       "4  00016540_000.png 0 0 0 0 0 0 0 0 0 0 0 0 0 0"
      ]
     },
     "execution_count": 12,
     "metadata": {},
     "output_type": "execute_result"
    }
   ],
   "source": [
    "val_list = pd.read_csv('data/labels/val_list.txt',header=None)\n",
    "\n",
    "val_list.head()"
   ]
  },
  {
   "cell_type": "code",
   "execution_count": 13,
   "metadata": {},
   "outputs": [],
   "source": [
    "val_imgs = list(val_list[0].apply(lambda x: x.split(' ')[0]))"
   ]
  },
  {
   "cell_type": "code",
   "execution_count": 14,
   "metadata": {},
   "outputs": [
    {
     "data": {
      "text/plain": [
       "11219"
      ]
     },
     "execution_count": 14,
     "metadata": {},
     "output_type": "execute_result"
    }
   ],
   "source": [
    "len(val_imgs)"
   ]
  },
  {
   "cell_type": "code",
   "execution_count": 15,
   "metadata": {},
   "outputs": [
    {
     "data": {
      "text/html": [
       "<div>\n",
       "<style scoped>\n",
       "    .dataframe tbody tr th:only-of-type {\n",
       "        vertical-align: middle;\n",
       "    }\n",
       "\n",
       "    .dataframe tbody tr th {\n",
       "        vertical-align: top;\n",
       "    }\n",
       "\n",
       "    .dataframe thead th {\n",
       "        text-align: right;\n",
       "    }\n",
       "</style>\n",
       "<table border=\"1\" class=\"dataframe\">\n",
       "  <thead>\n",
       "    <tr style=\"text-align: right;\">\n",
       "      <th></th>\n",
       "      <th>0</th>\n",
       "    </tr>\n",
       "  </thead>\n",
       "  <tbody>\n",
       "    <tr>\n",
       "      <th>0</th>\n",
       "      <td>00011997_000.png 0 0 0 0 0 0 0 0 0 0 0 0 0 0</td>\n",
       "    </tr>\n",
       "    <tr>\n",
       "      <th>1</th>\n",
       "      <td>00011997_001.png 0 0 0 0 0 0 0 0 0 0 0 0 0 0</td>\n",
       "    </tr>\n",
       "    <tr>\n",
       "      <th>2</th>\n",
       "      <td>00011997_002.png 0 0 0 0 0 0 0 0 0 0 0 0 0 0</td>\n",
       "    </tr>\n",
       "    <tr>\n",
       "      <th>3</th>\n",
       "      <td>00011997_003.png 0 0 1 0 0 0 0 0 0 0 0 0 0 0</td>\n",
       "    </tr>\n",
       "    <tr>\n",
       "      <th>4</th>\n",
       "      <td>00011997_004.png 0 1 1 1 0 0 0 0 0 0 0 0 0 0</td>\n",
       "    </tr>\n",
       "  </tbody>\n",
       "</table>\n",
       "</div>"
      ],
      "text/plain": [
       "                                              0\n",
       "0  00011997_000.png 0 0 0 0 0 0 0 0 0 0 0 0 0 0\n",
       "1  00011997_001.png 0 0 0 0 0 0 0 0 0 0 0 0 0 0\n",
       "2  00011997_002.png 0 0 0 0 0 0 0 0 0 0 0 0 0 0\n",
       "3  00011997_003.png 0 0 1 0 0 0 0 0 0 0 0 0 0 0\n",
       "4  00011997_004.png 0 1 1 1 0 0 0 0 0 0 0 0 0 0"
      ]
     },
     "execution_count": 15,
     "metadata": {},
     "output_type": "execute_result"
    }
   ],
   "source": [
    "test_list = pd.read_csv('data/labels/test_list.txt',header=None)\n",
    "\n",
    "test_list.head()"
   ]
  },
  {
   "cell_type": "code",
   "execution_count": 16,
   "metadata": {},
   "outputs": [],
   "source": [
    "test_imgs = list(test_list[0].apply(lambda x: x.split(' ')[0]))"
   ]
  },
  {
   "cell_type": "code",
   "execution_count": 17,
   "metadata": {},
   "outputs": [
    {
     "data": {
      "text/plain": [
       "22433"
      ]
     },
     "execution_count": 17,
     "metadata": {},
     "output_type": "execute_result"
    }
   ],
   "source": [
    "len(test_imgs)"
   ]
  },
  {
   "cell_type": "code",
   "execution_count": 18,
   "metadata": {},
   "outputs": [],
   "source": [
    "path = 'data/resnet50_ft/'\n",
    "\n",
    "label_csv = f'{path}labels_ft.csv'\n",
    "\n",
    "label_ft = pd.read_csv(label_csv) #label for the full dataset"
   ]
  },
  {
   "cell_type": "code",
   "execution_count": 19,
   "metadata": {},
   "outputs": [],
   "source": [
    "#creating train, validation and test idxs\n",
    "trn_idx = np.array(label_ft.index[label_ft.img_id.isin(trn_imgs)])\n",
    "\n",
    "val_idx = np.array(label_ft.index[label_ft.img_id.isin(val_imgs)])\n",
    "\n",
    "tst_idx = np.array(label_ft.index[label_ft.img_id.isin(test_imgs)])"
   ]
  },
  {
   "cell_type": "code",
   "execution_count": 20,
   "metadata": {},
   "outputs": [
    {
     "data": {
      "text/plain": [
       "78468"
      ]
     },
     "execution_count": 20,
     "metadata": {},
     "output_type": "execute_result"
    }
   ],
   "source": [
    "len(trn_idx)"
   ]
  },
  {
   "cell_type": "code",
   "execution_count": 21,
   "metadata": {},
   "outputs": [
    {
     "data": {
      "text/plain": [
       "11219"
      ]
     },
     "execution_count": 21,
     "metadata": {},
     "output_type": "execute_result"
    }
   ],
   "source": [
    "len(val_idx)"
   ]
  },
  {
   "cell_type": "code",
   "execution_count": 22,
   "metadata": {},
   "outputs": [
    {
     "data": {
      "text/plain": [
       "22433"
      ]
     },
     "execution_count": 22,
     "metadata": {},
     "output_type": "execute_result"
    }
   ],
   "source": [
    "len(tst_idx)"
   ]
  },
  {
   "cell_type": "code",
   "execution_count": 23,
   "metadata": {},
   "outputs": [],
   "source": [
    "# set(val_idx).intersection(set(tst_idx)) \n",
    "#checking that no ID is common among train, val and test. No ID common"
   ]
  },
  {
   "cell_type": "code",
   "execution_count": 24,
   "metadata": {},
   "outputs": [],
   "source": [
    "# #copying test images to a separate folder (done)\n",
    "# bulk_copyfiles(\n",
    "#     test_imgs,\n",
    "#     'data/nih_resized/',\n",
    "#     'data/resnet50_ft/test_imgs/',\n",
    "#     overwrite=True)  "
   ]
  },
  {
   "cell_type": "markdown",
   "metadata": {},
   "source": [
    "----"
   ]
  },
  {
   "cell_type": "code",
   "execution_count": 25,
   "metadata": {},
   "outputs": [],
   "source": [
    "cuda.set_device(1)"
   ]
  },
  {
   "cell_type": "markdown",
   "metadata": {},
   "source": [
    "## Resnet-50"
   ]
  },
  {
   "cell_type": "code",
   "execution_count": 26,
   "metadata": {},
   "outputs": [],
   "source": [
    "arch = resnet50 #architecture\n",
    "\n",
    "sz = 300 #size of the images passing in the network\n",
    "\n",
    "bs = 64 #batch size"
   ]
  },
  {
   "cell_type": "code",
   "execution_count": 27,
   "metadata": {},
   "outputs": [],
   "source": [
    "#data augementation: you can add more here\n",
    "aug_tfms = [\n",
    "    RandomRotate(3, p=0.5),\n",
    "    RandomLighting(0.05, 0.05)\n",
    "]"
   ]
  },
  {
   "cell_type": "code",
   "execution_count": 28,
   "metadata": {},
   "outputs": [],
   "source": [
    "#defining transforms\n",
    "tfms = tfms_from_model(arch,sz,aug_tfms=aug_tfms,max_zoom=1.2)"
   ]
  },
  {
   "cell_type": "code",
   "execution_count": 29,
   "metadata": {},
   "outputs": [],
   "source": [
    "#defining model data\n",
    "data = ImageClassifierData.from_csv(\n",
    "    'data/',\n",
    "    'nih_resized',\n",
    "    csv_fname=label_csv,\n",
    "    val_idxs=val_idx,\n",
    "    tfms=tfms,\n",
    "    bs=bs,\n",
    "    test_name='resnet50_ft/test_imgs/')"
   ]
  },
  {
   "cell_type": "code",
   "execution_count": 30,
   "metadata": {},
   "outputs": [],
   "source": [
    "path = 'data/'"
   ]
  },
  {
   "cell_type": "code",
   "execution_count": 31,
   "metadata": {},
   "outputs": [],
   "source": [
    "#classes in our dataset\n",
    "cls = data.classes"
   ]
  },
  {
   "cell_type": "code",
   "execution_count": 32,
   "metadata": {},
   "outputs": [
    {
     "data": {
      "text/plain": [
       "['Atelectasis',\n",
       " 'Cardiomegaly',\n",
       " 'Consolidation',\n",
       " 'Edema',\n",
       " 'Effusion',\n",
       " 'Emphysema',\n",
       " 'Fibrosis',\n",
       " 'Hernia',\n",
       " 'Infiltration',\n",
       " 'Mass',\n",
       " 'No_Finding',\n",
       " 'Nodule',\n",
       " 'Pleural_Thickening',\n",
       " 'Pneumonia',\n",
       " 'Pneumothorax']"
      ]
     },
     "execution_count": 32,
     "metadata": {},
     "output_type": "execute_result"
    }
   ],
   "source": [
    "cls"
   ]
  },
  {
   "cell_type": "markdown",
   "metadata": {},
   "source": [
    "Sample train image"
   ]
  },
  {
   "cell_type": "code",
   "execution_count": 33,
   "metadata": {},
   "outputs": [
    {
     "data": {
      "text/plain": [
       "'data/nih_resized/00000001_000.png'"
      ]
     },
     "execution_count": 33,
     "metadata": {},
     "output_type": "execute_result"
    }
   ],
   "source": [
    "fn = path+data.trn_ds.fnames[0];fn"
   ]
  },
  {
   "cell_type": "code",
   "execution_count": 34,
   "metadata": {},
   "outputs": [
    {
     "data": {
      "image/png": "[encoded data removed]",
      "text/plain": [
       "<PIL.PngImagePlugin.PngImageFile image mode=RGB size=300x300 at 0x7F00F65BD4A8>"
      ]
     },
     "execution_count": 34,
     "metadata": {},
     "output_type": "execute_result"
    }
   ],
   "source": [
    "img = PIL.Image.open(fn);img"
   ]
  },
  {
   "cell_type": "code",
   "execution_count": 35,
   "metadata": {},
   "outputs": [
    {
     "data": {
      "text/plain": [
       "'Cardiomegaly'"
      ]
     },
     "execution_count": 35,
     "metadata": {},
     "output_type": "execute_result"
    }
   ],
   "source": [
    "cls[np.nonzero(data.trn_ds.y[0])[0].tolist()[0]]"
   ]
  },
  {
   "cell_type": "markdown",
   "metadata": {},
   "source": [
    "Sample validation image"
   ]
  },
  {
   "cell_type": "code",
   "execution_count": 36,
   "metadata": {},
   "outputs": [
    {
     "data": {
      "text/plain": [
       "'data/nih_resized/00000012_000.png'"
      ]
     },
     "execution_count": 36,
     "metadata": {},
     "output_type": "execute_result"
    }
   ],
   "source": [
    "fn = path+data.val_ds.fnames[0];fn"
   ]
  },
  {
   "cell_type": "code",
   "execution_count": 37,
   "metadata": {},
   "outputs": [
    {
     "data": {
      "image/png": "[encoded data removed]",
      "text/plain": [
       "<PIL.PngImagePlugin.PngImageFile image mode=RGB size=300x300 at 0x7F00F40E1550>"
      ]
     },
     "execution_count": 37,
     "metadata": {},
     "output_type": "execute_result"
    }
   ],
   "source": [
    "img = PIL.Image.open(fn);img"
   ]
  },
  {
   "cell_type": "markdown",
   "metadata": {},
   "source": [
    "Sample test image"
   ]
  },
  {
   "cell_type": "code",
   "execution_count": 38,
   "metadata": {},
   "outputs": [
    {
     "data": {
      "text/plain": [
       "'data/resnet50_ft/test_imgs/00028059_001.png'"
      ]
     },
     "execution_count": 38,
     "metadata": {},
     "output_type": "execute_result"
    }
   ],
   "source": [
    "fn = path+data.test_ds.fnames[0];fn"
   ]
  },
  {
   "cell_type": "code",
   "execution_count": 39,
   "metadata": {},
   "outputs": [
    {
     "data": {
      "image/png": "[encoded data removed]",
      "text/plain": [
       "<PIL.PngImagePlugin.PngImageFile image mode=RGB size=300x300 at 0x7F00F40E1518>"
      ]
     },
     "execution_count": 39,
     "metadata": {},
     "output_type": "execute_result"
    }
   ],
   "source": [
    "img = PIL.Image.open(fn);img"
   ]
  },
  {
   "cell_type": "code",
   "execution_count": 40,
   "metadata": {},
   "outputs": [
    {
     "data": {
      "text/plain": [
       "(300, 300)"
      ]
     },
     "execution_count": 40,
     "metadata": {},
     "output_type": "execute_result"
    }
   ],
   "source": [
    "img.size"
   ]
  },
  {
   "cell_type": "code",
   "execution_count": 41,
   "metadata": {},
   "outputs": [],
   "source": [
    "metric_to_track = [auc_avg] #validation metric to be reported while training"
   ]
  },
  {
   "cell_type": "markdown",
   "metadata": {},
   "source": [
    "Defining the custom loss function: weighted cross entropy"
   ]
  },
  {
   "cell_type": "code",
   "execution_count": 42,
   "metadata": {},
   "outputs": [],
   "source": [
    "def wt_binary_cross_entropy(y_pred, y_true):\n",
    "    '''\n",
    "    input:\n",
    "    y_pred: predicted labels\n",
    "    y_true: ground truth labels\n",
    "    output:\n",
    "    weighted binary cross entropy loss\n",
    "    '''\n",
    "#     set_trace()\n",
    "    bs = y_true.size()[0]\n",
    "    n_classes = y_true.size()[1]\n",
    "    cwt = V((1 - y_true.sum(0) / bs).view(-1, n_classes),requires_grad=True)\n",
    "    loss_p = -V(torch.mul(cwt, torch.mul(torch.log(y_pred), y_true)),requires_grad=True)\n",
    "    loss_n = -V(torch.mul(1 - cwt, torch.mul(torch.log(1 - y_pred),1-y_true)),requires_grad=True)\n",
    "    wt_bce = V(torch.mean(torch.mean(loss_p + loss_n, dim=1)),requires_grad=True)\n",
    "    return wt_bce"
   ]
  },
  {
   "cell_type": "code",
   "execution_count": 43,
   "metadata": {},
   "outputs": [],
   "source": [
    "#defining the learner\n",
    "learn = ConvLearner.pretrained(arch,data,precompute=False,metrics = metric_to_track)"
   ]
  },
  {
   "cell_type": "code",
   "execution_count": 44,
   "metadata": {},
   "outputs": [],
   "source": [
    "#assigning the custom loss function\n",
    "learn.crit = wt_binary_cross_entropy"
   ]
  },
  {
   "cell_type": "markdown",
   "metadata": {},
   "source": [
    "#### Training loop 1"
   ]
  },
  {
   "cell_type": "code",
   "execution_count": null,
   "metadata": {},
   "outputs": [],
   "source": [
    "#learning rate finder\n",
    "lrf = learn.lr_find()"
   ]
  },
  {
   "cell_type": "code",
   "execution_count": null,
   "metadata": {},
   "outputs": [],
   "source": [
    "learn.sched.plot() #Loss vs learning rate"
   ]
  },
  {
   "cell_type": "code",
   "execution_count": null,
   "metadata": {},
   "outputs": [],
   "source": [
    "learn.sched.plot_loss() #Loss vs iteration"
   ]
  },
  {
   "cell_type": "markdown",
   "metadata": {},
   "source": [
    "Trying learning rate of 1e-1 based on the LR finder plot"
   ]
  },
  {
   "cell_type": "code",
   "execution_count": null,
   "metadata": {},
   "outputs": [],
   "source": [
    "learn.fit(1e-1,n_cycle=1,cycle_len=3,use_clr=(30,5)) #using cyclical learning rate"
   ]
  },
  {
   "cell_type": "code",
   "execution_count": null,
   "metadata": {},
   "outputs": [],
   "source": [
    "learn.sched.plot_lr()"
   ]
  },
  {
   "cell_type": "code",
   "execution_count": null,
   "metadata": {},
   "outputs": [],
   "source": [
    "learn.sched.plot_loss()"
   ]
  },
  {
   "cell_type": "code",
   "execution_count": null,
   "metadata": {},
   "outputs": [],
   "source": [
    "# learn.save('resnet50_m1_clr')"
   ]
  },
  {
   "cell_type": "code",
   "execution_count": 45,
   "metadata": {},
   "outputs": [],
   "source": [
    "learn.load('resnet50_m1_clr')"
   ]
  },
  {
   "cell_type": "markdown",
   "metadata": {},
   "source": [
    "**Validation**"
   ]
  },
  {
   "cell_type": "code",
   "execution_count": null,
   "metadata": {},
   "outputs": [],
   "source": [
    "preds1,y = learn.TTA(n_aug=4)"
   ]
  },
  {
   "cell_type": "code",
   "execution_count": null,
   "metadata": {},
   "outputs": [],
   "source": [
    "preds1.shape #prediction for 4 augmented + original image (probabilities)"
   ]
  },
  {
   "cell_type": "code",
   "execution_count": null,
   "metadata": {},
   "outputs": [],
   "source": [
    "y.shape"
   ]
  },
  {
   "cell_type": "code",
   "execution_count": null,
   "metadata": {},
   "outputs": [],
   "source": [
    "preds_mean1 = np.mean(preds1,axis=0)"
   ]
  },
  {
   "cell_type": "code",
   "execution_count": null,
   "metadata": {},
   "outputs": [],
   "source": [
    "preds_mean1.shape"
   ]
  },
  {
   "cell_type": "code",
   "execution_count": null,
   "metadata": {},
   "outputs": [],
   "source": [
    "cls_auc_1 = compute_aucs(preds_mean1,y)"
   ]
  },
  {
   "cell_type": "code",
   "execution_count": null,
   "metadata": {},
   "outputs": [],
   "source": [
    "for i,j in zip(cls,cls_auc_1):print(i,j)"
   ]
  },
  {
   "cell_type": "code",
   "execution_count": null,
   "metadata": {},
   "outputs": [],
   "source": [
    "print(\"Average validation AUC:\",np.mean(cls_auc_1))"
   ]
  },
  {
   "cell_type": "code",
   "execution_count": null,
   "metadata": {},
   "outputs": [],
   "source": [
    "df_auc = pd.DataFrame()"
   ]
  },
  {
   "cell_type": "code",
   "execution_count": null,
   "metadata": {},
   "outputs": [],
   "source": [
    "df_auc = df_auc.assign(pathology = np.array(cls), AUC_1 = np.array(cls_auc_1))"
   ]
  },
  {
   "cell_type": "code",
   "execution_count": null,
   "metadata": {},
   "outputs": [],
   "source": [
    "df_auc.to_feather('data/resnet50_ft/predictions/df_auc')"
   ]
  },
  {
   "cell_type": "markdown",
   "metadata": {},
   "source": [
    "#### Training Loop 2"
   ]
  },
  {
   "cell_type": "code",
   "execution_count": null,
   "metadata": {},
   "outputs": [],
   "source": [
    "#learning rate finder\n",
    "lrf = learn.lr_find()"
   ]
  },
  {
   "cell_type": "code",
   "execution_count": null,
   "metadata": {},
   "outputs": [],
   "source": [
    "learn.sched.plot() #Loss vs learning rate"
   ]
  },
  {
   "cell_type": "code",
   "execution_count": null,
   "metadata": {},
   "outputs": [],
   "source": [
    "learn.sched.plot_loss() #Loss vs iteration"
   ]
  },
  {
   "cell_type": "markdown",
   "metadata": {},
   "source": [
    "So from the above plot, it appears that the last layer is more or less tuned so we should move on to training more layers"
   ]
  },
  {
   "cell_type": "code",
   "execution_count": 46,
   "metadata": {},
   "outputs": [],
   "source": [
    "learn.unfreeze()"
   ]
  },
  {
   "cell_type": "code",
   "execution_count": 47,
   "metadata": {},
   "outputs": [],
   "source": [
    "lr_current = 0.1"
   ]
  },
  {
   "cell_type": "code",
   "execution_count": 48,
   "metadata": {},
   "outputs": [
    {
     "data": {
      "application/vnd.jupyter.widget-view+json": {
       "model_id": "c28c81245dad47328568968682a62731",
       "version_major": 2,
       "version_minor": 0
      },
      "text/plain": [
       "HBox(children=(IntProgress(value=0, description='Epoch', max=1), HTML(value='')))"
      ]
     },
     "metadata": {},
     "output_type": "display_data"
    },
    {
     "name": "stdout",
     "output_type": "stream",
     "text": [
      " 82%|████████▏ | 1295/1577 [17:40<03:50,  1.22it/s, loss=nan]   "
     ]
    }
   ],
   "source": [
    "#learning rate finder\n",
    "lrf = learn.lr_find(lr_current/1000)"
   ]
  },
  {
   "cell_type": "code",
   "execution_count": 49,
   "metadata": {},
   "outputs": [
    {
     "data": {
      "image/png": "[encoded data removed]",
      "text/plain": [
       "<Figure size 432x288 with 1 Axes>"
      ]
     },
     "metadata": {},
     "output_type": "display_data"
    }
   ],
   "source": [
    "learn.sched.plot() #Loss vs learning rate"
   ]
  },
  {
   "cell_type": "code",
   "execution_count": 50,
   "metadata": {},
   "outputs": [
    {
     "data": {
      "image/png": "[encoded data removed]",
      "text/plain": [
       "<Figure size 432x288 with 1 Axes>"
      ]
     },
     "metadata": {},
     "output_type": "display_data"
    }
   ],
   "source": [
    "learn.sched.plot_loss() #Loss vs iteration"
   ]
  },
  {
   "cell_type": "code",
   "execution_count": 51,
   "metadata": {},
   "outputs": [],
   "source": [
    "torch.cuda.empty_cache()"
   ]
  },
  {
   "cell_type": "markdown",
   "metadata": {},
   "source": [
    "According to the plot, I'm choosing learning rate of 2e-2"
   ]
  },
  {
   "cell_type": "code",
   "execution_count": 52,
   "metadata": {
    "scrolled": true
   },
   "outputs": [
    {
     "data": {
      "application/vnd.jupyter.widget-view+json": {
       "model_id": "351771cd8e4342bcaea406a558a66bb1",
       "version_major": 2,
       "version_minor": 0
      },
      "text/plain": [
       "HBox(children=(IntProgress(value=0, description='Epoch', max=3), HTML(value='')))"
      ]
     },
     "metadata": {},
     "output_type": "display_data"
    },
    {
     "name": "stdout",
     "output_type": "stream",
     "text": [
      "  0%|          | 1/1577 [00:01<51:16,  1.95s/it, loss=0.0643]\n"
     ]
    },
    {
     "name": "stderr",
     "output_type": "stream",
     "text": [
      "Exception in thread Thread-5:\n",
      "Traceback (most recent call last):\n",
      "  File \"/home/shikhar/anaconda3/envs/fastai/lib/python3.6/threading.py\", line 916, in _bootstrap_inner\n",
      "    self.run()\n",
      "  File \"/home/shikhar/anaconda3/envs/fastai/lib/python3.6/site-packages/tqdm/_monitor.py\", line 62, in run\n",
      "    for instance in self.tqdm_cls._instances:\n",
      "  File \"/home/shikhar/anaconda3/envs/fastai/lib/python3.6/_weakrefset.py\", line 60, in __iter__\n",
      "    for itemref in self.data:\n",
      "RuntimeError: Set changed size during iteration\n",
      "\n"
     ]
    },
    {
     "name": "stdout",
     "output_type": "stream",
     "text": [
      "epoch      trn_loss   val_loss   auc_avg                        \n",
      "    0      0.069796   0.069049   0.729808  \n",
      "    1      0.067847   0.06813    0.742736                       \n",
      "    2      0.066918   0.067968   0.745951                       \n",
      "\n"
     ]
    },
    {
     "data": {
      "text/plain": [
       "[array([0.06797]), 0.7459505364611451]"
      ]
     },
     "execution_count": 52,
     "metadata": {},
     "output_type": "execute_result"
    }
   ],
   "source": [
    "lr = 2e-2\n",
    "lrs = np.array([lr/9,lr/3,lr])\n",
    "learn.fit(lrs,1,cycle_len=3,use_clr=(30,5))"
   ]
  },
  {
   "cell_type": "code",
   "execution_count": 53,
   "metadata": {},
   "outputs": [
    {
     "data": {
      "image/png": "[encoded data removed]",
      "text/plain": [
       "<Figure size 432x288 with 1 Axes>"
      ]
     },
     "metadata": {},
     "output_type": "display_data"
    }
   ],
   "source": [
    "learn.sched.plot_lr()"
   ]
  },
  {
   "cell_type": "code",
   "execution_count": 54,
   "metadata": {
    "scrolled": true
   },
   "outputs": [
    {
     "data": {
      "image/png": "[encoded data removed]",
      "text/plain": [
       "<Figure size 432x288 with 1 Axes>"
      ]
     },
     "metadata": {},
     "output_type": "display_data"
    }
   ],
   "source": [
    "learn.sched.plot_loss()"
   ]
  },
  {
   "cell_type": "code",
   "execution_count": 55,
   "metadata": {},
   "outputs": [],
   "source": [
    "# learn.save('resnet50_m2_clr_unfreeze')"
   ]
  },
  {
   "cell_type": "code",
   "execution_count": 44,
   "metadata": {},
   "outputs": [],
   "source": [
    "learn.load('resnet50_m2_clr_unfreeze')"
   ]
  },
  {
   "cell_type": "markdown",
   "metadata": {},
   "source": [
    "**Validation**"
   ]
  },
  {
   "cell_type": "code",
   "execution_count": 57,
   "metadata": {},
   "outputs": [
    {
     "name": "stdout",
     "output_type": "stream",
     "text": [
      "                                             \r"
     ]
    }
   ],
   "source": [
    "preds2,y = learn.TTA(n_aug=4)"
   ]
  },
  {
   "cell_type": "code",
   "execution_count": 58,
   "metadata": {},
   "outputs": [
    {
     "data": {
      "text/plain": [
       "(5, 11219, 15)"
      ]
     },
     "execution_count": 58,
     "metadata": {},
     "output_type": "execute_result"
    }
   ],
   "source": [
    "preds2.shape #prediction for 4 augmented + original image (probabilities)"
   ]
  },
  {
   "cell_type": "code",
   "execution_count": 59,
   "metadata": {},
   "outputs": [
    {
     "data": {
      "text/plain": [
       "(11219, 15)"
      ]
     },
     "execution_count": 59,
     "metadata": {},
     "output_type": "execute_result"
    }
   ],
   "source": [
    "y.shape"
   ]
  },
  {
   "cell_type": "code",
   "execution_count": 60,
   "metadata": {},
   "outputs": [
    {
     "name": "stdout",
     "output_type": "stream",
     "text": [
      "Average validation AUC: 0.8012804107294406\n"
     ]
    }
   ],
   "source": [
    "preds_mean2 = np.mean(preds2,axis=0)\n",
    "\n",
    "cls_auc_2 = compute_aucs(preds_mean2,y)\n",
    "\n",
    "print(\"Average validation AUC:\",np.mean(cls_auc_2))"
   ]
  },
  {
   "cell_type": "code",
   "execution_count": 61,
   "metadata": {},
   "outputs": [],
   "source": [
    "df_auc = pd.read_feather('data/resnet50_ft/predictions/df_auc')"
   ]
  },
  {
   "cell_type": "code",
   "execution_count": 62,
   "metadata": {},
   "outputs": [],
   "source": [
    "df_auc = df_auc.assign(AUC_2 = np.array(cls_auc_2))"
   ]
  },
  {
   "cell_type": "code",
   "execution_count": 63,
   "metadata": {},
   "outputs": [
    {
     "data": {
      "text/html": [
       "<div>\n",
       "<style scoped>\n",
       "    .dataframe tbody tr th:only-of-type {\n",
       "        vertical-align: middle;\n",
       "    }\n",
       "\n",
       "    .dataframe tbody tr th {\n",
       "        vertical-align: top;\n",
       "    }\n",
       "\n",
       "    .dataframe thead th {\n",
       "        text-align: right;\n",
       "    }\n",
       "</style>\n",
       "<table border=\"1\" class=\"dataframe\">\n",
       "  <thead>\n",
       "    <tr style=\"text-align: right;\">\n",
       "      <th></th>\n",
       "      <th>pathology</th>\n",
       "      <th>AUC_1</th>\n",
       "      <th>AUC_2</th>\n",
       "    </tr>\n",
       "  </thead>\n",
       "  <tbody>\n",
       "    <tr>\n",
       "      <th>0</th>\n",
       "      <td>Atelectasis</td>\n",
       "      <td>0.740229</td>\n",
       "      <td>0.786984</td>\n",
       "    </tr>\n",
       "    <tr>\n",
       "      <th>1</th>\n",
       "      <td>Cardiomegaly</td>\n",
       "      <td>0.804404</td>\n",
       "      <td>0.872491</td>\n",
       "    </tr>\n",
       "    <tr>\n",
       "      <th>2</th>\n",
       "      <td>Consolidation</td>\n",
       "      <td>0.779498</td>\n",
       "      <td>0.797624</td>\n",
       "    </tr>\n",
       "    <tr>\n",
       "      <th>3</th>\n",
       "      <td>Edema</td>\n",
       "      <td>0.866403</td>\n",
       "      <td>0.887377</td>\n",
       "    </tr>\n",
       "    <tr>\n",
       "      <th>4</th>\n",
       "      <td>Effusion</td>\n",
       "      <td>0.824757</td>\n",
       "      <td>0.857264</td>\n",
       "    </tr>\n",
       "    <tr>\n",
       "      <th>5</th>\n",
       "      <td>Emphysema</td>\n",
       "      <td>0.818660</td>\n",
       "      <td>0.861343</td>\n",
       "    </tr>\n",
       "    <tr>\n",
       "      <th>6</th>\n",
       "      <td>Fibrosis</td>\n",
       "      <td>0.751913</td>\n",
       "      <td>0.774318</td>\n",
       "    </tr>\n",
       "    <tr>\n",
       "      <th>7</th>\n",
       "      <td>Hernia</td>\n",
       "      <td>0.842799</td>\n",
       "      <td>0.886471</td>\n",
       "    </tr>\n",
       "    <tr>\n",
       "      <th>8</th>\n",
       "      <td>Infiltration</td>\n",
       "      <td>0.665850</td>\n",
       "      <td>0.690213</td>\n",
       "    </tr>\n",
       "    <tr>\n",
       "      <th>9</th>\n",
       "      <td>Mass</td>\n",
       "      <td>0.713771</td>\n",
       "      <td>0.766134</td>\n",
       "    </tr>\n",
       "    <tr>\n",
       "      <th>10</th>\n",
       "      <td>No_Finding</td>\n",
       "      <td>0.735007</td>\n",
       "      <td>0.756389</td>\n",
       "    </tr>\n",
       "    <tr>\n",
       "      <th>11</th>\n",
       "      <td>Nodule</td>\n",
       "      <td>0.647347</td>\n",
       "      <td>0.689123</td>\n",
       "    </tr>\n",
       "    <tr>\n",
       "      <th>12</th>\n",
       "      <td>Pleural_Thickening</td>\n",
       "      <td>0.755513</td>\n",
       "      <td>0.779943</td>\n",
       "    </tr>\n",
       "    <tr>\n",
       "      <th>13</th>\n",
       "      <td>Pneumonia</td>\n",
       "      <td>0.709847</td>\n",
       "      <td>0.740846</td>\n",
       "    </tr>\n",
       "    <tr>\n",
       "      <th>14</th>\n",
       "      <td>Pneumothorax</td>\n",
       "      <td>0.830143</td>\n",
       "      <td>0.872685</td>\n",
       "    </tr>\n",
       "  </tbody>\n",
       "</table>\n",
       "</div>"
      ],
      "text/plain": [
       "             pathology     AUC_1     AUC_2\n",
       "0          Atelectasis  0.740229  0.786984\n",
       "1         Cardiomegaly  0.804404  0.872491\n",
       "2        Consolidation  0.779498  0.797624\n",
       "3                Edema  0.866403  0.887377\n",
       "4             Effusion  0.824757  0.857264\n",
       "5            Emphysema  0.818660  0.861343\n",
       "6             Fibrosis  0.751913  0.774318\n",
       "7               Hernia  0.842799  0.886471\n",
       "8         Infiltration  0.665850  0.690213\n",
       "9                 Mass  0.713771  0.766134\n",
       "10          No_Finding  0.735007  0.756389\n",
       "11              Nodule  0.647347  0.689123\n",
       "12  Pleural_Thickening  0.755513  0.779943\n",
       "13           Pneumonia  0.709847  0.740846\n",
       "14        Pneumothorax  0.830143  0.872685"
      ]
     },
     "execution_count": 63,
     "metadata": {},
     "output_type": "execute_result"
    }
   ],
   "source": [
    "df_auc"
   ]
  },
  {
   "cell_type": "code",
   "execution_count": 64,
   "metadata": {},
   "outputs": [],
   "source": [
    "df_auc.to_feather('data/resnet50_ft/predictions/df_auc')"
   ]
  },
  {
   "cell_type": "markdown",
   "metadata": {},
   "source": [
    "#### Training Loop 3"
   ]
  },
  {
   "cell_type": "code",
   "execution_count": 45,
   "metadata": {
    "scrolled": true
   },
   "outputs": [
    {
     "data": {
      "application/vnd.jupyter.widget-view+json": {
       "model_id": "cd04a5d8491a4c2e839b622db506f0f1",
       "version_major": 2,
       "version_minor": 0
      },
      "text/plain": [
       "HBox(children=(IntProgress(value=0, description='Epoch', max=3), HTML(value='')))"
      ]
     },
     "metadata": {},
     "output_type": "display_data"
    },
    {
     "name": "stdout",
     "output_type": "stream",
     "text": [
      "epoch      trn_loss   val_loss   auc_avg                        \n",
      "    0      0.065388   0.067949   0.746852  \n",
      "    1      0.064804   0.067869   0.746964                       \n",
      "    2      0.066113   0.067812   0.747387                       \n",
      "\n"
     ]
    },
    {
     "data": {
      "text/plain": [
       "[array([0.06781]), 0.7473873669334758]"
      ]
     },
     "execution_count": 45,
     "metadata": {},
     "output_type": "execute_result"
    }
   ],
   "source": [
    "lr = 2e-2\n",
    "lrs = np.array([lr/9,lr/3,lr])\n",
    "learn.fit(lrs,1,cycle_len=3,use_clr=(40,10))"
   ]
  },
  {
   "cell_type": "code",
   "execution_count": 46,
   "metadata": {},
   "outputs": [],
   "source": [
    "# learn.save('resnet50_m3_clr_unfreeze')"
   ]
  },
  {
   "cell_type": "code",
   "execution_count": 54,
   "metadata": {},
   "outputs": [],
   "source": [
    "learn.load('resnet50_m3_clr_unfreeze')"
   ]
  },
  {
   "cell_type": "code",
   "execution_count": 48,
   "metadata": {},
   "outputs": [
    {
     "name": "stdout",
     "output_type": "stream",
     "text": [
      "                                             \r"
     ]
    }
   ],
   "source": [
    "preds3,y = learn.TTA(n_aug=4)"
   ]
  },
  {
   "cell_type": "code",
   "execution_count": 49,
   "metadata": {},
   "outputs": [
    {
     "data": {
      "text/plain": [
       "(5, 11219, 15)"
      ]
     },
     "execution_count": 49,
     "metadata": {},
     "output_type": "execute_result"
    }
   ],
   "source": [
    "preds3.shape #prediction for 4 augmented + original image (probabilities)"
   ]
  },
  {
   "cell_type": "code",
   "execution_count": 50,
   "metadata": {},
   "outputs": [
    {
     "data": {
      "text/plain": [
       "(11219, 15)"
      ]
     },
     "execution_count": 50,
     "metadata": {},
     "output_type": "execute_result"
    }
   ],
   "source": [
    "y.shape"
   ]
  },
  {
   "cell_type": "code",
   "execution_count": 51,
   "metadata": {},
   "outputs": [
    {
     "name": "stdout",
     "output_type": "stream",
     "text": [
      "Average validation AUC: 0.8027564772435946\n"
     ]
    }
   ],
   "source": [
    "preds_mean3 = np.mean(preds3,axis=0)\n",
    "\n",
    "cls_auc_3 = compute_aucs(preds_mean3,y)\n",
    "\n",
    "print(\"Average validation AUC:\",np.mean(cls_auc_3))"
   ]
  },
  {
   "cell_type": "code",
   "execution_count": 52,
   "metadata": {},
   "outputs": [],
   "source": [
    "df_auc = pd.read_feather('data/resnet50_ft/predictions/df_auc')"
   ]
  },
  {
   "cell_type": "code",
   "execution_count": 53,
   "metadata": {},
   "outputs": [],
   "source": [
    "df_auc = df_auc.assign(AUC_3 = np.array(cls_auc_3))"
   ]
  },
  {
   "cell_type": "code",
   "execution_count": 54,
   "metadata": {},
   "outputs": [
    {
     "data": {
      "text/html": [
       "<div>\n",
       "<style scoped>\n",
       "    .dataframe tbody tr th:only-of-type {\n",
       "        vertical-align: middle;\n",
       "    }\n",
       "\n",
       "    .dataframe tbody tr th {\n",
       "        vertical-align: top;\n",
       "    }\n",
       "\n",
       "    .dataframe thead th {\n",
       "        text-align: right;\n",
       "    }\n",
       "</style>\n",
       "<table border=\"1\" class=\"dataframe\">\n",
       "  <thead>\n",
       "    <tr style=\"text-align: right;\">\n",
       "      <th></th>\n",
       "      <th>pathology</th>\n",
       "      <th>AUC_1</th>\n",
       "      <th>AUC_2</th>\n",
       "      <th>AUC_3</th>\n",
       "    </tr>\n",
       "  </thead>\n",
       "  <tbody>\n",
       "    <tr>\n",
       "      <th>0</th>\n",
       "      <td>Atelectasis</td>\n",
       "      <td>0.740229</td>\n",
       "      <td>0.786984</td>\n",
       "      <td>0.786993</td>\n",
       "    </tr>\n",
       "    <tr>\n",
       "      <th>1</th>\n",
       "      <td>Cardiomegaly</td>\n",
       "      <td>0.804404</td>\n",
       "      <td>0.872491</td>\n",
       "      <td>0.868016</td>\n",
       "    </tr>\n",
       "    <tr>\n",
       "      <th>2</th>\n",
       "      <td>Consolidation</td>\n",
       "      <td>0.779498</td>\n",
       "      <td>0.797624</td>\n",
       "      <td>0.799070</td>\n",
       "    </tr>\n",
       "    <tr>\n",
       "      <th>3</th>\n",
       "      <td>Edema</td>\n",
       "      <td>0.866403</td>\n",
       "      <td>0.887377</td>\n",
       "      <td>0.889593</td>\n",
       "    </tr>\n",
       "    <tr>\n",
       "      <th>4</th>\n",
       "      <td>Effusion</td>\n",
       "      <td>0.824757</td>\n",
       "      <td>0.857264</td>\n",
       "      <td>0.856984</td>\n",
       "    </tr>\n",
       "    <tr>\n",
       "      <th>5</th>\n",
       "      <td>Emphysema</td>\n",
       "      <td>0.818660</td>\n",
       "      <td>0.861343</td>\n",
       "      <td>0.865889</td>\n",
       "    </tr>\n",
       "    <tr>\n",
       "      <th>6</th>\n",
       "      <td>Fibrosis</td>\n",
       "      <td>0.751913</td>\n",
       "      <td>0.774318</td>\n",
       "      <td>0.774383</td>\n",
       "    </tr>\n",
       "    <tr>\n",
       "      <th>7</th>\n",
       "      <td>Hernia</td>\n",
       "      <td>0.842799</td>\n",
       "      <td>0.886471</td>\n",
       "      <td>0.887604</td>\n",
       "    </tr>\n",
       "    <tr>\n",
       "      <th>8</th>\n",
       "      <td>Infiltration</td>\n",
       "      <td>0.665850</td>\n",
       "      <td>0.690213</td>\n",
       "      <td>0.692826</td>\n",
       "    </tr>\n",
       "    <tr>\n",
       "      <th>9</th>\n",
       "      <td>Mass</td>\n",
       "      <td>0.713771</td>\n",
       "      <td>0.766134</td>\n",
       "      <td>0.772650</td>\n",
       "    </tr>\n",
       "    <tr>\n",
       "      <th>10</th>\n",
       "      <td>No_Finding</td>\n",
       "      <td>0.735007</td>\n",
       "      <td>0.756389</td>\n",
       "      <td>0.756350</td>\n",
       "    </tr>\n",
       "    <tr>\n",
       "      <th>11</th>\n",
       "      <td>Nodule</td>\n",
       "      <td>0.647347</td>\n",
       "      <td>0.689123</td>\n",
       "      <td>0.692216</td>\n",
       "    </tr>\n",
       "    <tr>\n",
       "      <th>12</th>\n",
       "      <td>Pleural_Thickening</td>\n",
       "      <td>0.755513</td>\n",
       "      <td>0.779943</td>\n",
       "      <td>0.782983</td>\n",
       "    </tr>\n",
       "    <tr>\n",
       "      <th>13</th>\n",
       "      <td>Pneumonia</td>\n",
       "      <td>0.709847</td>\n",
       "      <td>0.740846</td>\n",
       "      <td>0.741614</td>\n",
       "    </tr>\n",
       "    <tr>\n",
       "      <th>14</th>\n",
       "      <td>Pneumothorax</td>\n",
       "      <td>0.830143</td>\n",
       "      <td>0.872685</td>\n",
       "      <td>0.874175</td>\n",
       "    </tr>\n",
       "  </tbody>\n",
       "</table>\n",
       "</div>"
      ],
      "text/plain": [
       "             pathology     AUC_1     AUC_2     AUC_3\n",
       "0          Atelectasis  0.740229  0.786984  0.786993\n",
       "1         Cardiomegaly  0.804404  0.872491  0.868016\n",
       "2        Consolidation  0.779498  0.797624  0.799070\n",
       "3                Edema  0.866403  0.887377  0.889593\n",
       "4             Effusion  0.824757  0.857264  0.856984\n",
       "5            Emphysema  0.818660  0.861343  0.865889\n",
       "6             Fibrosis  0.751913  0.774318  0.774383\n",
       "7               Hernia  0.842799  0.886471  0.887604\n",
       "8         Infiltration  0.665850  0.690213  0.692826\n",
       "9                 Mass  0.713771  0.766134  0.772650\n",
       "10          No_Finding  0.735007  0.756389  0.756350\n",
       "11              Nodule  0.647347  0.689123  0.692216\n",
       "12  Pleural_Thickening  0.755513  0.779943  0.782983\n",
       "13           Pneumonia  0.709847  0.740846  0.741614\n",
       "14        Pneumothorax  0.830143  0.872685  0.874175"
      ]
     },
     "execution_count": 54,
     "metadata": {},
     "output_type": "execute_result"
    }
   ],
   "source": [
    "df_auc"
   ]
  },
  {
   "cell_type": "code",
   "execution_count": 55,
   "metadata": {},
   "outputs": [],
   "source": [
    "df_auc.to_feather('data/resnet50_ft/predictions/df_auc')"
   ]
  },
  {
   "cell_type": "markdown",
   "metadata": {},
   "source": [
    "**Training Loop 4**"
   ]
  },
  {
   "cell_type": "code",
   "execution_count": 50,
   "metadata": {},
   "outputs": [],
   "source": [
    "learn.freeze()"
   ]
  },
  {
   "cell_type": "code",
   "execution_count": 51,
   "metadata": {},
   "outputs": [
    {
     "data": {
      "application/vnd.jupyter.widget-view+json": {
       "model_id": "7e5f6937317a4aed86815b1cae0c35a8",
       "version_major": 2,
       "version_minor": 0
      },
      "text/plain": [
       "HBox(children=(IntProgress(value=0, description='Epoch', max=1), HTML(value='')))"
      ]
     },
     "metadata": {},
     "output_type": "display_data"
    },
    {
     "name": "stdout",
     "output_type": "stream",
     "text": [
      "epoch      trn_loss   val_loss   auc_avg                        \n",
      "    0      0.074462   0.072127   0.711847  \n",
      "\n"
     ]
    }
   ],
   "source": [
    "#learning rate finder\n",
    "lrf = learn.lr_find()"
   ]
  },
  {
   "cell_type": "code",
   "execution_count": 52,
   "metadata": {},
   "outputs": [
    {
     "data": {
      "image/png": "[encoded data removed]",
      "text/plain": [
       "<Figure size 432x288 with 1 Axes>"
      ]
     },
     "metadata": {},
     "output_type": "display_data"
    }
   ],
   "source": [
    "learn.sched.plot() #Loss vs learning rate"
   ]
  },
  {
   "cell_type": "code",
   "execution_count": 49,
   "metadata": {
    "scrolled": true
   },
   "outputs": [
    {
     "data": {
      "image/png": "[encoded data removed]",
      "text/plain": [
       "<Figure size 432x288 with 1 Axes>"
      ]
     },
     "metadata": {},
     "output_type": "display_data"
    }
   ],
   "source": [
    "learn.sched.plot_loss() #Loss vs iteration"
   ]
  },
  {
   "cell_type": "code",
   "execution_count": 55,
   "metadata": {
    "scrolled": true
   },
   "outputs": [
    {
     "data": {
      "application/vnd.jupyter.widget-view+json": {
       "model_id": "6623bc722a104b1d9776ae86c9c6956b",
       "version_major": 2,
       "version_minor": 0
      },
      "text/plain": [
       "HBox(children=(IntProgress(value=0, description='Epoch', max=3), HTML(value='')))"
      ]
     },
     "metadata": {},
     "output_type": "display_data"
    },
    {
     "name": "stdout",
     "output_type": "stream",
     "text": [
      "epoch      trn_loss   val_loss   auc_avg                        \n",
      "    0      0.064592   0.067785   0.747422  \n",
      "    1      0.067567   0.067736   0.747418                       \n",
      "    2      0.065721   0.067749   0.747632                       \n",
      "\n"
     ]
    },
    {
     "data": {
      "text/plain": [
       "[array([0.06775]), 0.7476320332072934]"
      ]
     },
     "execution_count": 55,
     "metadata": {},
     "output_type": "execute_result"
    }
   ],
   "source": [
    "learn.fit(1e-4,n_cycle=1,cycle_len=3) #using cyclical learning rate"
   ]
  },
  {
   "cell_type": "code",
   "execution_count": 67,
   "metadata": {},
   "outputs": [],
   "source": [
    "learn.save('resnet50_m4_clr_unfreeze')"
   ]
  },
  {
   "cell_type": "code",
   "execution_count": 68,
   "metadata": {},
   "outputs": [],
   "source": [
    "learn.load('resnet50_m4_clr_unfreeze')"
   ]
  },
  {
   "cell_type": "markdown",
   "metadata": {},
   "source": [
    "**Validation**"
   ]
  },
  {
   "cell_type": "code",
   "execution_count": 56,
   "metadata": {},
   "outputs": [
    {
     "name": "stdout",
     "output_type": "stream",
     "text": [
      "                                             \r"
     ]
    }
   ],
   "source": [
    "preds4,y = learn.TTA(n_aug=4)"
   ]
  },
  {
   "cell_type": "code",
   "execution_count": 57,
   "metadata": {},
   "outputs": [
    {
     "data": {
      "text/plain": [
       "(5, 11219, 15)"
      ]
     },
     "execution_count": 57,
     "metadata": {},
     "output_type": "execute_result"
    }
   ],
   "source": [
    "preds4.shape #prediction for 4 augmented + original image (probabilities)"
   ]
  },
  {
   "cell_type": "code",
   "execution_count": 58,
   "metadata": {},
   "outputs": [
    {
     "data": {
      "text/plain": [
       "(11219, 15)"
      ]
     },
     "execution_count": 58,
     "metadata": {},
     "output_type": "execute_result"
    }
   ],
   "source": [
    "y.shape"
   ]
  },
  {
   "cell_type": "code",
   "execution_count": 59,
   "metadata": {},
   "outputs": [
    {
     "name": "stdout",
     "output_type": "stream",
     "text": [
      "Average validation AUC: 0.8026206336728264\n"
     ]
    }
   ],
   "source": [
    "preds_mean4 = np.mean(preds4,axis=0)\n",
    "\n",
    "cls_auc_4 = compute_aucs(preds_mean4,y)\n",
    "\n",
    "print(\"Average validation AUC:\",np.mean(cls_auc_4))"
   ]
  },
  {
   "cell_type": "code",
   "execution_count": 64,
   "metadata": {},
   "outputs": [],
   "source": [
    "df_auc = pd.read_feather('data/resnet50_ft/predictions/df_auc')"
   ]
  },
  {
   "cell_type": "code",
   "execution_count": 65,
   "metadata": {},
   "outputs": [],
   "source": [
    "df_auc = df_auc.assign(AUC_4 = np.array(cls_auc_4))"
   ]
  },
  {
   "cell_type": "code",
   "execution_count": 88,
   "metadata": {
    "scrolled": true
   },
   "outputs": [
    {
     "data": {
      "text/html": [
       "<div>\n",
       "<style scoped>\n",
       "    .dataframe tbody tr th:only-of-type {\n",
       "        vertical-align: middle;\n",
       "    }\n",
       "\n",
       "    .dataframe tbody tr th {\n",
       "        vertical-align: top;\n",
       "    }\n",
       "\n",
       "    .dataframe thead th {\n",
       "        text-align: right;\n",
       "    }\n",
       "</style>\n",
       "<table border=\"1\" class=\"dataframe\">\n",
       "  <thead>\n",
       "    <tr style=\"text-align: right;\">\n",
       "      <th></th>\n",
       "      <th>pathology</th>\n",
       "      <th>AUC_1</th>\n",
       "      <th>AUC_2</th>\n",
       "      <th>AUC_3</th>\n",
       "      <th>AUC_4</th>\n",
       "    </tr>\n",
       "  </thead>\n",
       "  <tbody>\n",
       "    <tr>\n",
       "      <th>0</th>\n",
       "      <td>Atelectasis</td>\n",
       "      <td>0.740229</td>\n",
       "      <td>0.786984</td>\n",
       "      <td>0.786993</td>\n",
       "      <td>0.788175</td>\n",
       "    </tr>\n",
       "    <tr>\n",
       "      <th>1</th>\n",
       "      <td>Cardiomegaly</td>\n",
       "      <td>0.804404</td>\n",
       "      <td>0.872491</td>\n",
       "      <td>0.868016</td>\n",
       "      <td>0.872890</td>\n",
       "    </tr>\n",
       "    <tr>\n",
       "      <th>2</th>\n",
       "      <td>Consolidation</td>\n",
       "      <td>0.779498</td>\n",
       "      <td>0.797624</td>\n",
       "      <td>0.799070</td>\n",
       "      <td>0.799789</td>\n",
       "    </tr>\n",
       "    <tr>\n",
       "      <th>3</th>\n",
       "      <td>Edema</td>\n",
       "      <td>0.866403</td>\n",
       "      <td>0.887377</td>\n",
       "      <td>0.889593</td>\n",
       "      <td>0.888885</td>\n",
       "    </tr>\n",
       "    <tr>\n",
       "      <th>4</th>\n",
       "      <td>Effusion</td>\n",
       "      <td>0.824757</td>\n",
       "      <td>0.857264</td>\n",
       "      <td>0.856984</td>\n",
       "      <td>0.857191</td>\n",
       "    </tr>\n",
       "    <tr>\n",
       "      <th>5</th>\n",
       "      <td>Emphysema</td>\n",
       "      <td>0.818660</td>\n",
       "      <td>0.861343</td>\n",
       "      <td>0.865889</td>\n",
       "      <td>0.863551</td>\n",
       "    </tr>\n",
       "    <tr>\n",
       "      <th>6</th>\n",
       "      <td>Fibrosis</td>\n",
       "      <td>0.751913</td>\n",
       "      <td>0.774318</td>\n",
       "      <td>0.774383</td>\n",
       "      <td>0.776839</td>\n",
       "    </tr>\n",
       "    <tr>\n",
       "      <th>7</th>\n",
       "      <td>Hernia</td>\n",
       "      <td>0.842799</td>\n",
       "      <td>0.886471</td>\n",
       "      <td>0.887604</td>\n",
       "      <td>0.883414</td>\n",
       "    </tr>\n",
       "    <tr>\n",
       "      <th>8</th>\n",
       "      <td>Infiltration</td>\n",
       "      <td>0.665850</td>\n",
       "      <td>0.690213</td>\n",
       "      <td>0.692826</td>\n",
       "      <td>0.691074</td>\n",
       "    </tr>\n",
       "    <tr>\n",
       "      <th>9</th>\n",
       "      <td>Mass</td>\n",
       "      <td>0.713771</td>\n",
       "      <td>0.766134</td>\n",
       "      <td>0.772650</td>\n",
       "      <td>0.768427</td>\n",
       "    </tr>\n",
       "    <tr>\n",
       "      <th>10</th>\n",
       "      <td>No_Finding</td>\n",
       "      <td>0.735007</td>\n",
       "      <td>0.756389</td>\n",
       "      <td>0.756350</td>\n",
       "      <td>0.757066</td>\n",
       "    </tr>\n",
       "    <tr>\n",
       "      <th>11</th>\n",
       "      <td>Nodule</td>\n",
       "      <td>0.647347</td>\n",
       "      <td>0.689123</td>\n",
       "      <td>0.692216</td>\n",
       "      <td>0.692897</td>\n",
       "    </tr>\n",
       "    <tr>\n",
       "      <th>12</th>\n",
       "      <td>Pleural_Thickening</td>\n",
       "      <td>0.755513</td>\n",
       "      <td>0.779943</td>\n",
       "      <td>0.782983</td>\n",
       "      <td>0.782808</td>\n",
       "    </tr>\n",
       "    <tr>\n",
       "      <th>13</th>\n",
       "      <td>Pneumonia</td>\n",
       "      <td>0.709847</td>\n",
       "      <td>0.740846</td>\n",
       "      <td>0.741614</td>\n",
       "      <td>0.742030</td>\n",
       "    </tr>\n",
       "    <tr>\n",
       "      <th>14</th>\n",
       "      <td>Pneumothorax</td>\n",
       "      <td>0.830143</td>\n",
       "      <td>0.872685</td>\n",
       "      <td>0.874175</td>\n",
       "      <td>0.874275</td>\n",
       "    </tr>\n",
       "  </tbody>\n",
       "</table>\n",
       "</div>"
      ],
      "text/plain": [
       "             pathology     AUC_1     AUC_2     AUC_3     AUC_4\n",
       "0          Atelectasis  0.740229  0.786984  0.786993  0.788175\n",
       "1         Cardiomegaly  0.804404  0.872491  0.868016  0.872890\n",
       "2        Consolidation  0.779498  0.797624  0.799070  0.799789\n",
       "3                Edema  0.866403  0.887377  0.889593  0.888885\n",
       "4             Effusion  0.824757  0.857264  0.856984  0.857191\n",
       "5            Emphysema  0.818660  0.861343  0.865889  0.863551\n",
       "6             Fibrosis  0.751913  0.774318  0.774383  0.776839\n",
       "7               Hernia  0.842799  0.886471  0.887604  0.883414\n",
       "8         Infiltration  0.665850  0.690213  0.692826  0.691074\n",
       "9                 Mass  0.713771  0.766134  0.772650  0.768427\n",
       "10          No_Finding  0.735007  0.756389  0.756350  0.757066\n",
       "11              Nodule  0.647347  0.689123  0.692216  0.692897\n",
       "12  Pleural_Thickening  0.755513  0.779943  0.782983  0.782808\n",
       "13           Pneumonia  0.709847  0.740846  0.741614  0.742030\n",
       "14        Pneumothorax  0.830143  0.872685  0.874175  0.874275"
      ]
     },
     "execution_count": 88,
     "metadata": {},
     "output_type": "execute_result"
    }
   ],
   "source": [
    "df_auc"
   ]
  },
  {
   "cell_type": "code",
   "execution_count": 89,
   "metadata": {},
   "outputs": [],
   "source": [
    "df_auc.to_feather('data/resnet50_ft/predictions/df_auc')"
   ]
  },
  {
   "cell_type": "markdown",
   "metadata": {},
   "source": [
    "### Prediction on Test using the best model"
   ]
  },
  {
   "cell_type": "code",
   "execution_count": 69,
   "metadata": {},
   "outputs": [],
   "source": [
    "data1 = ImageClassifierData.from_csv(\n",
    "    'data/',\n",
    "    'nih_resized',\n",
    "    csv_fname=label_csv,\n",
    "    val_idxs=tst_idx,\n",
    "    tfms=tfms,\n",
    "    bs=bs)"
   ]
  },
  {
   "cell_type": "code",
   "execution_count": 70,
   "metadata": {},
   "outputs": [],
   "source": [
    "learn1 = learn"
   ]
  },
  {
   "cell_type": "code",
   "execution_count": 71,
   "metadata": {},
   "outputs": [],
   "source": [
    "learn1.set_data(data1)"
   ]
  },
  {
   "cell_type": "code",
   "execution_count": 72,
   "metadata": {},
   "outputs": [
    {
     "name": "stdout",
     "output_type": "stream",
     "text": [
      "                                             \r"
     ]
    }
   ],
   "source": [
    "preds_test,y_test = learn1.TTA()"
   ]
  },
  {
   "cell_type": "code",
   "execution_count": 73,
   "metadata": {},
   "outputs": [
    {
     "data": {
      "text/plain": [
       "(5, 22433, 15)"
      ]
     },
     "execution_count": 73,
     "metadata": {},
     "output_type": "execute_result"
    }
   ],
   "source": [
    "preds_test.shape"
   ]
  },
  {
   "cell_type": "code",
   "execution_count": 74,
   "metadata": {},
   "outputs": [],
   "source": [
    "preds_mean_test = np.mean(preds_test,axis=0)"
   ]
  },
  {
   "cell_type": "code",
   "execution_count": 75,
   "metadata": {},
   "outputs": [
    {
     "data": {
      "text/plain": [
       "(22433, 15)"
      ]
     },
     "execution_count": 75,
     "metadata": {},
     "output_type": "execute_result"
    }
   ],
   "source": [
    "preds_mean_test.shape"
   ]
  },
  {
   "cell_type": "code",
   "execution_count": 76,
   "metadata": {},
   "outputs": [
    {
     "data": {
      "text/plain": [
       "(22433, 15)"
      ]
     },
     "execution_count": 76,
     "metadata": {},
     "output_type": "execute_result"
    }
   ],
   "source": [
    "y_test.shape"
   ]
  },
  {
   "cell_type": "code",
   "execution_count": 77,
   "metadata": {},
   "outputs": [],
   "source": [
    "test_aucs = compute_aucs(preds_mean_test,y_test)"
   ]
  },
  {
   "cell_type": "code",
   "execution_count": 78,
   "metadata": {},
   "outputs": [
    {
     "data": {
      "text/plain": [
       "['Atelectasis',\n",
       " 'Cardiomegaly',\n",
       " 'Consolidation',\n",
       " 'Edema',\n",
       " 'Effusion',\n",
       " 'Emphysema',\n",
       " 'Fibrosis',\n",
       " 'Hernia',\n",
       " 'Infiltration',\n",
       " 'Mass',\n",
       " 'No_Finding',\n",
       " 'Nodule',\n",
       " 'Pleural_Thickening',\n",
       " 'Pneumonia',\n",
       " 'Pneumothorax']"
      ]
     },
     "execution_count": 78,
     "metadata": {},
     "output_type": "execute_result"
    }
   ],
   "source": [
    "data1.classes"
   ]
  },
  {
   "cell_type": "code",
   "execution_count": 79,
   "metadata": {},
   "outputs": [],
   "source": [
    "df_ours = pd.DataFrame({'Pathology': data1.classes, 'AUC-ROC': np.array(test_aucs)})"
   ]
  },
  {
   "cell_type": "code",
   "execution_count": 80,
   "metadata": {},
   "outputs": [],
   "source": [
    "metric_comparison = {'Atelectasis' :  [0.716, 0.772, 0.8094],\n",
    "'Cardiomegaly' : [0.807 ,0.904 ,0.9248],\n",
    "'Effusion' :  [0.784 ,0.859 ,0.8638],\n",
    "'Infiltration' :  [0.609, 0.695, 0.7345],\n",
    "'Mass' :  [0.706 ,0.792, 0.8676],\n",
    "'Nodule' :  [0.671, 0.717 ,0.7802],\n",
    "'Pneumonia' :  [0.633 ,0.713 ,0.7680],\n",
    "'Pneumothorax' :  [0.806, 0.841, 0.8887],\n",
    "'Consolidation' :  [0.708, 0.788, 0.7901],\n",
    "'Edema' :  [0.835, 0.882, 0.8878],\n",
    "'Emphysema' :  [0.815, 0.829, 0.9371],\n",
    "'Fibrosis' : [0.769, 0.767, 0.8047],\n",
    "'Pleural_Thickening' :  [0.708, 0.765, 0.8062],\n",
    "'Hernia' :  [0.767, 0.914, 0.9164]}"
   ]
  },
  {
   "cell_type": "code",
   "execution_count": 81,
   "metadata": {},
   "outputs": [],
   "source": [
    "df = pd.DataFrame.from_dict(metric_comparison).T.reset_index()"
   ]
  },
  {
   "cell_type": "code",
   "execution_count": 82,
   "metadata": {},
   "outputs": [],
   "source": [
    "df.columns = ['Pathology','Wang','Yao','ChexNet']"
   ]
  },
  {
   "cell_type": "code",
   "execution_count": 83,
   "metadata": {},
   "outputs": [],
   "source": [
    "df_final = pd.merge(df,df_ours,'left',on = 'Pathology')"
   ]
  },
  {
   "cell_type": "code",
   "execution_count": 85,
   "metadata": {},
   "outputs": [
    {
     "data": {
      "text/html": [
       "<div>\n",
       "<style scoped>\n",
       "    .dataframe tbody tr th:only-of-type {\n",
       "        vertical-align: middle;\n",
       "    }\n",
       "\n",
       "    .dataframe tbody tr th {\n",
       "        vertical-align: top;\n",
       "    }\n",
       "\n",
       "    .dataframe thead th {\n",
       "        text-align: right;\n",
       "    }\n",
       "</style>\n",
       "<table border=\"1\" class=\"dataframe\">\n",
       "  <thead>\n",
       "    <tr style=\"text-align: right;\">\n",
       "      <th></th>\n",
       "      <th>Pathology</th>\n",
       "      <th>Wang</th>\n",
       "      <th>Yao</th>\n",
       "      <th>ChexNet</th>\n",
       "      <th>AUC-ROC</th>\n",
       "    </tr>\n",
       "  </thead>\n",
       "  <tbody>\n",
       "    <tr>\n",
       "      <th>0</th>\n",
       "      <td>Atelectasis</td>\n",
       "      <td>0.716</td>\n",
       "      <td>0.772</td>\n",
       "      <td>0.8094</td>\n",
       "      <td>0.797652</td>\n",
       "    </tr>\n",
       "    <tr>\n",
       "      <th>1</th>\n",
       "      <td>Cardiomegaly</td>\n",
       "      <td>0.807</td>\n",
       "      <td>0.904</td>\n",
       "      <td>0.9248</td>\n",
       "      <td>0.883900</td>\n",
       "    </tr>\n",
       "    <tr>\n",
       "      <th>2</th>\n",
       "      <td>Consolidation</td>\n",
       "      <td>0.708</td>\n",
       "      <td>0.788</td>\n",
       "      <td>0.7901</td>\n",
       "      <td>0.800205</td>\n",
       "    </tr>\n",
       "    <tr>\n",
       "      <th>3</th>\n",
       "      <td>Edema</td>\n",
       "      <td>0.835</td>\n",
       "      <td>0.882</td>\n",
       "      <td>0.8878</td>\n",
       "      <td>0.889956</td>\n",
       "    </tr>\n",
       "    <tr>\n",
       "      <th>4</th>\n",
       "      <td>Effusion</td>\n",
       "      <td>0.784</td>\n",
       "      <td>0.859</td>\n",
       "      <td>0.8638</td>\n",
       "      <td>0.874333</td>\n",
       "    </tr>\n",
       "    <tr>\n",
       "      <th>5</th>\n",
       "      <td>Emphysema</td>\n",
       "      <td>0.815</td>\n",
       "      <td>0.829</td>\n",
       "      <td>0.9371</td>\n",
       "      <td>0.908070</td>\n",
       "    </tr>\n",
       "    <tr>\n",
       "      <th>6</th>\n",
       "      <td>Fibrosis</td>\n",
       "      <td>0.769</td>\n",
       "      <td>0.767</td>\n",
       "      <td>0.8047</td>\n",
       "      <td>0.817450</td>\n",
       "    </tr>\n",
       "    <tr>\n",
       "      <th>7</th>\n",
       "      <td>Hernia</td>\n",
       "      <td>0.767</td>\n",
       "      <td>0.914</td>\n",
       "      <td>0.9164</td>\n",
       "      <td>0.932241</td>\n",
       "    </tr>\n",
       "    <tr>\n",
       "      <th>8</th>\n",
       "      <td>Infiltration</td>\n",
       "      <td>0.609</td>\n",
       "      <td>0.695</td>\n",
       "      <td>0.7345</td>\n",
       "      <td>0.705675</td>\n",
       "    </tr>\n",
       "    <tr>\n",
       "      <th>9</th>\n",
       "      <td>Mass</td>\n",
       "      <td>0.706</td>\n",
       "      <td>0.792</td>\n",
       "      <td>0.8676</td>\n",
       "      <td>0.778315</td>\n",
       "    </tr>\n",
       "    <tr>\n",
       "      <th>10</th>\n",
       "      <td>Nodule</td>\n",
       "      <td>0.671</td>\n",
       "      <td>0.717</td>\n",
       "      <td>0.7802</td>\n",
       "      <td>0.729975</td>\n",
       "    </tr>\n",
       "    <tr>\n",
       "      <th>11</th>\n",
       "      <td>Pleural_Thickening</td>\n",
       "      <td>0.708</td>\n",
       "      <td>0.765</td>\n",
       "      <td>0.8062</td>\n",
       "      <td>0.776497</td>\n",
       "    </tr>\n",
       "    <tr>\n",
       "      <th>12</th>\n",
       "      <td>Pneumonia</td>\n",
       "      <td>0.633</td>\n",
       "      <td>0.713</td>\n",
       "      <td>0.7680</td>\n",
       "      <td>0.775935</td>\n",
       "    </tr>\n",
       "    <tr>\n",
       "      <th>13</th>\n",
       "      <td>Pneumothorax</td>\n",
       "      <td>0.806</td>\n",
       "      <td>0.841</td>\n",
       "      <td>0.8887</td>\n",
       "      <td>0.870536</td>\n",
       "    </tr>\n",
       "  </tbody>\n",
       "</table>\n",
       "</div>"
      ],
      "text/plain": [
       "             Pathology   Wang    Yao  ChexNet   AUC-ROC\n",
       "0          Atelectasis  0.716  0.772   0.8094  0.797652\n",
       "1         Cardiomegaly  0.807  0.904   0.9248  0.883900\n",
       "2        Consolidation  0.708  0.788   0.7901  0.800205\n",
       "3                Edema  0.835  0.882   0.8878  0.889956\n",
       "4             Effusion  0.784  0.859   0.8638  0.874333\n",
       "5            Emphysema  0.815  0.829   0.9371  0.908070\n",
       "6             Fibrosis  0.769  0.767   0.8047  0.817450\n",
       "7               Hernia  0.767  0.914   0.9164  0.932241\n",
       "8         Infiltration  0.609  0.695   0.7345  0.705675\n",
       "9                 Mass  0.706  0.792   0.8676  0.778315\n",
       "10              Nodule  0.671  0.717   0.7802  0.729975\n",
       "11  Pleural_Thickening  0.708  0.765   0.8062  0.776497\n",
       "12           Pneumonia  0.633  0.713   0.7680  0.775935\n",
       "13        Pneumothorax  0.806  0.841   0.8887  0.870536"
      ]
     },
     "execution_count": 85,
     "metadata": {},
     "output_type": "execute_result"
    }
   ],
   "source": [
    "df_final"
   ]
  },
  {
   "cell_type": "code",
   "execution_count": 86,
   "metadata": {},
   "outputs": [],
   "source": [
    "df_final.columns = ['Pathology','Wang','Yao','ChexNet','Ours']"
   ]
  },
  {
   "cell_type": "code",
   "execution_count": 87,
   "metadata": {},
   "outputs": [
    {
     "data": {
      "text/html": [
       "<div>\n",
       "<style scoped>\n",
       "    .dataframe tbody tr th:only-of-type {\n",
       "        vertical-align: middle;\n",
       "    }\n",
       "\n",
       "    .dataframe tbody tr th {\n",
       "        vertical-align: top;\n",
       "    }\n",
       "\n",
       "    .dataframe thead th {\n",
       "        text-align: right;\n",
       "    }\n",
       "</style>\n",
       "<table border=\"1\" class=\"dataframe\">\n",
       "  <thead>\n",
       "    <tr style=\"text-align: right;\">\n",
       "      <th></th>\n",
       "      <th>Pathology</th>\n",
       "      <th>Wang</th>\n",
       "      <th>Yao</th>\n",
       "      <th>ChexNet</th>\n",
       "      <th>Ours</th>\n",
       "    </tr>\n",
       "  </thead>\n",
       "  <tbody>\n",
       "    <tr>\n",
       "      <th>0</th>\n",
       "      <td>Atelectasis</td>\n",
       "      <td>0.716</td>\n",
       "      <td>0.772</td>\n",
       "      <td>0.8094</td>\n",
       "      <td>0.797652</td>\n",
       "    </tr>\n",
       "    <tr>\n",
       "      <th>1</th>\n",
       "      <td>Cardiomegaly</td>\n",
       "      <td>0.807</td>\n",
       "      <td>0.904</td>\n",
       "      <td>0.9248</td>\n",
       "      <td>0.883900</td>\n",
       "    </tr>\n",
       "    <tr>\n",
       "      <th>2</th>\n",
       "      <td>Consolidation</td>\n",
       "      <td>0.708</td>\n",
       "      <td>0.788</td>\n",
       "      <td>0.7901</td>\n",
       "      <td>0.800205</td>\n",
       "    </tr>\n",
       "    <tr>\n",
       "      <th>3</th>\n",
       "      <td>Edema</td>\n",
       "      <td>0.835</td>\n",
       "      <td>0.882</td>\n",
       "      <td>0.8878</td>\n",
       "      <td>0.889956</td>\n",
       "    </tr>\n",
       "    <tr>\n",
       "      <th>4</th>\n",
       "      <td>Effusion</td>\n",
       "      <td>0.784</td>\n",
       "      <td>0.859</td>\n",
       "      <td>0.8638</td>\n",
       "      <td>0.874333</td>\n",
       "    </tr>\n",
       "    <tr>\n",
       "      <th>5</th>\n",
       "      <td>Emphysema</td>\n",
       "      <td>0.815</td>\n",
       "      <td>0.829</td>\n",
       "      <td>0.9371</td>\n",
       "      <td>0.908070</td>\n",
       "    </tr>\n",
       "    <tr>\n",
       "      <th>6</th>\n",
       "      <td>Fibrosis</td>\n",
       "      <td>0.769</td>\n",
       "      <td>0.767</td>\n",
       "      <td>0.8047</td>\n",
       "      <td>0.817450</td>\n",
       "    </tr>\n",
       "    <tr>\n",
       "      <th>7</th>\n",
       "      <td>Hernia</td>\n",
       "      <td>0.767</td>\n",
       "      <td>0.914</td>\n",
       "      <td>0.9164</td>\n",
       "      <td>0.932241</td>\n",
       "    </tr>\n",
       "    <tr>\n",
       "      <th>8</th>\n",
       "      <td>Infiltration</td>\n",
       "      <td>0.609</td>\n",
       "      <td>0.695</td>\n",
       "      <td>0.7345</td>\n",
       "      <td>0.705675</td>\n",
       "    </tr>\n",
       "    <tr>\n",
       "      <th>9</th>\n",
       "      <td>Mass</td>\n",
       "      <td>0.706</td>\n",
       "      <td>0.792</td>\n",
       "      <td>0.8676</td>\n",
       "      <td>0.778315</td>\n",
       "    </tr>\n",
       "    <tr>\n",
       "      <th>10</th>\n",
       "      <td>Nodule</td>\n",
       "      <td>0.671</td>\n",
       "      <td>0.717</td>\n",
       "      <td>0.7802</td>\n",
       "      <td>0.729975</td>\n",
       "    </tr>\n",
       "    <tr>\n",
       "      <th>11</th>\n",
       "      <td>Pleural_Thickening</td>\n",
       "      <td>0.708</td>\n",
       "      <td>0.765</td>\n",
       "      <td>0.8062</td>\n",
       "      <td>0.776497</td>\n",
       "    </tr>\n",
       "    <tr>\n",
       "      <th>12</th>\n",
       "      <td>Pneumonia</td>\n",
       "      <td>0.633</td>\n",
       "      <td>0.713</td>\n",
       "      <td>0.7680</td>\n",
       "      <td>0.775935</td>\n",
       "    </tr>\n",
       "    <tr>\n",
       "      <th>13</th>\n",
       "      <td>Pneumothorax</td>\n",
       "      <td>0.806</td>\n",
       "      <td>0.841</td>\n",
       "      <td>0.8887</td>\n",
       "      <td>0.870536</td>\n",
       "    </tr>\n",
       "  </tbody>\n",
       "</table>\n",
       "</div>"
      ],
      "text/plain": [
       "             Pathology   Wang    Yao  ChexNet      Ours\n",
       "0          Atelectasis  0.716  0.772   0.8094  0.797652\n",
       "1         Cardiomegaly  0.807  0.904   0.9248  0.883900\n",
       "2        Consolidation  0.708  0.788   0.7901  0.800205\n",
       "3                Edema  0.835  0.882   0.8878  0.889956\n",
       "4             Effusion  0.784  0.859   0.8638  0.874333\n",
       "5            Emphysema  0.815  0.829   0.9371  0.908070\n",
       "6             Fibrosis  0.769  0.767   0.8047  0.817450\n",
       "7               Hernia  0.767  0.914   0.9164  0.932241\n",
       "8         Infiltration  0.609  0.695   0.7345  0.705675\n",
       "9                 Mass  0.706  0.792   0.8676  0.778315\n",
       "10              Nodule  0.671  0.717   0.7802  0.729975\n",
       "11  Pleural_Thickening  0.708  0.765   0.8062  0.776497\n",
       "12           Pneumonia  0.633  0.713   0.7680  0.775935\n",
       "13        Pneumothorax  0.806  0.841   0.8887  0.870536"
      ]
     },
     "execution_count": 87,
     "metadata": {},
     "output_type": "execute_result"
    }
   ],
   "source": [
    "df_final"
   ]
  },
  {
   "cell_type": "code",
   "execution_count": 90,
   "metadata": {},
   "outputs": [],
   "source": [
    "df_final.to_feather('data/resnet50_ft/predictions/df_auc_test')"
   ]
  },
  {
   "cell_type": "code",
   "execution_count": null,
   "metadata": {},
   "outputs": [],
   "source": []
  }
 ],
 "metadata": {
  "kernelspec": {
   "display_name": "Python 3",
   "language": "python",
   "name": "python3"
  },
  "language_info": {
   "codemirror_mode": {
    "name": "ipython",
    "version": 3
   },
   "file_extension": ".py",
   "mimetype": "text/x-python",
   "name": "python",
   "nbconvert_exporter": "python",
   "pygments_lexer": "ipython3",
   "version": "3.6.5"
  }
 },
 "nbformat": 4,
 "nbformat_minor": 2
}
