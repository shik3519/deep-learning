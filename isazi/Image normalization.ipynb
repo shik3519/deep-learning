{
 "cells": [
  {
   "cell_type": "code",
   "execution_count": 1,
   "metadata": {},
   "outputs": [],
   "source": [
    "%reload_ext autoreload\n",
    "%autoreload 2\n",
    "%matplotlib inline\n",
    "\n",
    "import torch\n",
    "import torch.nn as nn\n",
    "from torchvision import transforms\n",
    "from torch.autograd import Variable\n",
    "import torchvision.datasets as dataset\n",
    "\n",
    "from torch.optim import lr_scheduler\n",
    "from IPython.core.debugger import set_trace\n",
    "import matplotlib.pyplot as plt\n",
    "from PIL import Image\n",
    "\n",
    "import os\n",
    "import numpy as np\n",
    "import pandas as pd\n",
    "import math\n",
    "from pdb import set_trace\n",
    "import shutil\n",
    "\n",
    "import bcolz\n",
    "import time\n",
    "from utils import *\n",
    "# Import skimage modules\n",
    "from skimage import data, img_as_float\n",
    "from skimage import exposure\n",
    "# Lets try augmenting a cifar10 image using these techniques\n",
    "from skimage import data, img_as_float\n",
    "from skimage import exposure\n",
    "%matplotlib inline\n",
    "import numpy as np\n",
    "import cv2\n",
    "import torch.optim as optim\n",
    "from torchvision import datasets, models, transforms,utils\n",
    "import time\n",
    "import copy\n",
    "plt.ion()  "
   ]
  },
  {
   "cell_type": "markdown",
   "metadata": {},
   "source": [
    "This script is assuming you have base data kept in data/montgomery_china_resized. Now before running this script you need to create folder structure for each of the normalization with folders for train, valid and normal, condition within them."
   ]
  },
  {
   "cell_type": "markdown",
   "metadata": {},
   "source": [
    "This script is taking the 3 channel image and applying histogram equalization and adaptive histogram equalization and saving it in a different folder with 3 channels and 1 channels"
   ]
  },
  {
   "cell_type": "code",
   "execution_count": 65,
   "metadata": {},
   "outputs": [],
   "source": [
    "source = 'data/montgomery_china_resized/train/condition/'"
   ]
  },
  {
   "cell_type": "code",
   "execution_count": 66,
   "metadata": {},
   "outputs": [],
   "source": [
    "img_path = [] #storing the path\n",
    "img_f = [] #storing the filename\n",
    "for path, subdirs, files in os.walk(f'{source}'):\n",
    "    for filename in files:\n",
    "        if 'png' in filename:\n",
    "            f = os.path.join(path, filename)\n",
    "            img_f.append(str(filename))\n",
    "            img_path.append(str(f))"
   ]
  },
  {
   "cell_type": "code",
   "execution_count": 25,
   "metadata": {},
   "outputs": [],
   "source": [
    "# #Histogram equalization 3 channel to 3 channel\n",
    "# for i,n in enumerate(img_path):\n",
    "#     img = cv2.imread(n,0)\n",
    "#     img = cv2.equalizeHist(img)\n",
    "#     img_new = np.stack((img,img,img),-1)\n",
    "#     cv2.imwrite(f'data/montgomery_china_resized_HE_3_channel/valid/condition/{img_f[i]}',img_new)"
   ]
  },
  {
   "cell_type": "code",
   "execution_count": 39,
   "metadata": {},
   "outputs": [],
   "source": [
    "# #Adaptive Histogram equalization 3 channel to 3 channel\n",
    "# clahe = cv2.createCLAHE(clipLimit=2.0, tileGridSize=(4,4))\n",
    "# for i,n in enumerate(img_path):\n",
    "#     img = cv2.imread(n,0)\n",
    "#     img = clahe.apply(img)\n",
    "#     img_new = np.stack((img,img,img),-1)\n",
    "#     cv2.imwrite(f'data/montgomery_china_resized_AHE_3_channel/train/condition/{img_f[i]}',img_new)"
   ]
  },
  {
   "cell_type": "code",
   "execution_count": 25,
   "metadata": {},
   "outputs": [],
   "source": [
    "# #Histogram equalization 3 channel to 1 channel\n",
    "# for i,n in enumerate(img_path):\n",
    "#     img = cv2.imread(n,0)\n",
    "#     img = cv2.equalizeHist(img)\n",
    "# #     img_new = np.stack((img,img,img),-1)\n",
    "#     cv2.imwrite(f'data/montgomery_china_resized_HE_1_channel/valid/condition/{img_f[i]}')"
   ]
  },
  {
   "cell_type": "code",
   "execution_count": 67,
   "metadata": {},
   "outputs": [],
   "source": [
    "# #Adaptive Histogram equalization 3 channel to 1 channel\n",
    "# clahe = cv2.createCLAHE(clipLimit=2.0, tileGridSize=(4,4))\n",
    "# for i,n in enumerate(img_path):\n",
    "#     img = cv2.imread(n,0)\n",
    "#     img = clahe.apply(img)\n",
    "# #     img_new = np.stack((img,img,img),-1)\n",
    "#     cv2.imwrite(f'data/montgomery_china_resized_AHE_1_channel/train/condition/{img_f[i]}',img)"
   ]
  },
  {
   "cell_type": "code",
   "execution_count": null,
   "metadata": {},
   "outputs": [],
   "source": []
  }
 ],
 "metadata": {
  "kernelspec": {
   "display_name": "Python 3",
   "language": "python",
   "name": "python3"
  },
  "language_info": {
   "codemirror_mode": {
    "name": "ipython",
    "version": 3
   },
   "file_extension": ".py",
   "mimetype": "text/x-python",
   "name": "python",
   "nbconvert_exporter": "python",
   "pygments_lexer": "ipython3",
   "version": "3.6.4"
  }
 },
 "nbformat": 4,
 "nbformat_minor": 2
}
