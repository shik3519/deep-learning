{
 "cells": [
  {
   "cell_type": "code",
   "execution_count": 1,
   "metadata": {},
   "outputs": [],
   "source": [
    "%matplotlib inline\n",
    "%reload_ext autoreload\n",
    "%autoreload 2\n",
    "\n",
    "import torch\n",
    "\n",
    "from fastai.conv_learner import *\n",
    "from fastai.dataset import *\n",
    "\n",
    "from pathlib import Path\n",
    "import json\n",
    "from PIL import ImageDraw, ImageFont\n",
    "from matplotlib import patches, patheffects"
   ]
  },
  {
   "cell_type": "code",
   "execution_count": 2,
   "metadata": {},
   "outputs": [],
   "source": [
    "import multiprocessing\n",
    "from functools import partial\n",
    "import shutil"
   ]
  },
  {
   "cell_type": "markdown",
   "metadata": {},
   "source": [
    "### Distributed bulk resizing of images"
   ]
  },
  {
   "cell_type": "code",
   "execution_count": 5,
   "metadata": {},
   "outputs": [],
   "source": [
    "# This function loads a file, resize it and write in the output folder\n",
    "def img_resize(fname, outdir, sz, in_dir):\n",
    "    '''\n",
    "    fname: image filename\n",
    "    outdir: relative path to output directory\n",
    "    sz: final size of image\n",
    "    in_dir: relative path to the input directory\n",
    "    '''\n",
    "    os.makedirs(outdir, exist_ok=True)\n",
    "    im = cv2.imread(in_dir + fname)\n",
    "    small_im = cv2.resize(im, (sz, sz))\n",
    "    cv2.imwrite(outdir + fname, small_im)\n",
    "\n",
    "\n",
    "def parallel_runs(data_list, outdir, in_dir, sz=300, process=4):\n",
    "    '''\n",
    "    data_list: list of filenames of images stores in a list\n",
    "    outdir: relative path to output directory\n",
    "    sz: final size of image\n",
    "    in_dir: relative path to the input directory\n",
    "    process: num of threads in your cpu\n",
    "    '''\n",
    "    pool = multiprocessing.Pool(processes=process)\n",
    "    img_resize_x = partial(img_resize, outdir=outdir, sz=sz, in_dir=in_dir)\n",
    "    pool.map(img_resize_x, data_list)"
   ]
  },
  {
   "cell_type": "code",
   "execution_count": 6,
   "metadata": {},
   "outputs": [],
   "source": [
    "inputdir = 'data/isazi_data/nih/images/'\n",
    "\n",
    "filelist = !ls {inputdir}\n",
    "\n",
    "outdir = 'data/isazi_data/nih/resize/'"
   ]
  },
  {
   "cell_type": "code",
   "execution_count": 82,
   "metadata": {},
   "outputs": [],
   "source": [
    "parallel_runs(filelist,outdir,300,inputdir,4) "
   ]
  },
  {
   "cell_type": "markdown",
   "metadata": {},
   "source": [
    "### Looking at the labels"
   ]
  },
  {
   "cell_type": "code",
   "execution_count": 7,
   "metadata": {},
   "outputs": [],
   "source": [
    "path = 'data/isazi_data/nih/'"
   ]
  },
  {
   "cell_type": "code",
   "execution_count": 8,
   "metadata": {},
   "outputs": [],
   "source": [
    "bbox = pd.read_csv(path+'BBox_List_2017.csv')"
   ]
  },
  {
   "cell_type": "code",
   "execution_count": 9,
   "metadata": {},
   "outputs": [
    {
     "data": {
      "text/plain": [
       "Index(['im_fname', 'label', 'bb_x', 'bb_y', 'bb_w', 'bb_h'], dtype='object')"
      ]
     },
     "execution_count": 9,
     "metadata": {},
     "output_type": "execute_result"
    }
   ],
   "source": [
    "bbox.columns"
   ]
  },
  {
   "cell_type": "code",
   "execution_count": 10,
   "metadata": {},
   "outputs": [],
   "source": [
    "filelist = !ls {path+'resize'}"
   ]
  },
  {
   "cell_type": "code",
   "execution_count": 11,
   "metadata": {},
   "outputs": [
    {
     "data": {
      "text/plain": [
       "array(['Atelectasis', 'Cardiomegaly', 'Effusion', 'Infiltrate', 'Mass', 'Nodule', 'Pneumonia',\n",
       "       'Pneumothorax'], dtype=object)"
      ]
     },
     "execution_count": 11,
     "metadata": {},
     "output_type": "execute_result"
    }
   ],
   "source": [
    "bbox.label.unique()"
   ]
  },
  {
   "cell_type": "code",
   "execution_count": 12,
   "metadata": {},
   "outputs": [
    {
     "data": {
      "text/plain": [
       "label\n",
       "Atelectasis     180\n",
       "Cardiomegaly    146\n",
       "Effusion        153\n",
       "Infiltrate      123\n",
       "Mass             85\n",
       "Nodule           79\n",
       "Pneumonia       120\n",
       "Pneumothorax     98\n",
       "dtype: int64"
      ]
     },
     "execution_count": 12,
     "metadata": {},
     "output_type": "execute_result"
    }
   ],
   "source": [
    "bbox.groupby(['label']).size()"
   ]
  },
  {
   "cell_type": "markdown",
   "metadata": {},
   "source": [
    "Copying files with bounding image information to a separate folder"
   ]
  },
  {
   "cell_type": "code",
   "execution_count": 13,
   "metadata": {},
   "outputs": [],
   "source": [
    "bb_imlist = list(bbox.im_fname) #list of images with bounding box"
   ]
  },
  {
   "cell_type": "code",
   "execution_count": 14,
   "metadata": {},
   "outputs": [],
   "source": [
    "def bulk_copyfiles(filelist, source, destination):\n",
    "    '''\n",
    "    filelist: list of filenames you need to copy\n",
    "    source: source directory\n",
    "    destination: destination directory\n",
    "    '''\n",
    "    for fname in filelist:\n",
    "        if os.path.exists(source + fname):\n",
    "            shutil.copy(os.path.join(source, fname), destination)"
   ]
  },
  {
   "cell_type": "code",
   "execution_count": 127,
   "metadata": {},
   "outputs": [],
   "source": [
    "bulk_copyfiles(bb_imlist, path + 'resize/', path + 'img_bbox/')"
   ]
  },
  {
   "cell_type": "code",
   "execution_count": 131,
   "metadata": {},
   "outputs": [],
   "source": [
    "bbfilter = !ls {path+'img_bbox'}"
   ]
  },
  {
   "cell_type": "code",
   "execution_count": 135,
   "metadata": {},
   "outputs": [
    {
     "data": {
      "text/plain": [
       "(984, 6)"
      ]
     },
     "execution_count": 135,
     "metadata": {},
     "output_type": "execute_result"
    }
   ],
   "source": [
    "bbox.shape"
   ]
  },
  {
   "cell_type": "code",
   "execution_count": 132,
   "metadata": {},
   "outputs": [
    {
     "data": {
      "text/plain": [
       "847"
      ]
     },
     "execution_count": 132,
     "metadata": {},
     "output_type": "execute_result"
    }
   ],
   "source": [
    "len(bbfilter)"
   ]
  },
  {
   "cell_type": "code",
   "execution_count": 134,
   "metadata": {},
   "outputs": [
    {
     "data": {
      "text/plain": [
       "(944, 6)"
      ]
     },
     "execution_count": 134,
     "metadata": {},
     "output_type": "execute_result"
    }
   ],
   "source": [
    "bbox.loc[bbox.im_fname.isin(bbfilter)].shape"
   ]
  },
  {
   "cell_type": "code",
   "execution_count": 139,
   "metadata": {},
   "outputs": [
    {
     "data": {
      "text/html": [
       "<div>\n",
       "<style scoped>\n",
       "    .dataframe tbody tr th:only-of-type {\n",
       "        vertical-align: middle;\n",
       "    }\n",
       "\n",
       "    .dataframe tbody tr th {\n",
       "        vertical-align: top;\n",
       "    }\n",
       "\n",
       "    .dataframe thead th {\n",
       "        text-align: right;\n",
       "    }\n",
       "</style>\n",
       "<table border=\"1\" class=\"dataframe\">\n",
       "  <thead>\n",
       "    <tr style=\"text-align: right;\">\n",
       "      <th></th>\n",
       "      <th>im_fname</th>\n",
       "      <th>label</th>\n",
       "      <th>bb_x</th>\n",
       "      <th>bb_y</th>\n",
       "      <th>bb_w</th>\n",
       "      <th>bb_h</th>\n",
       "    </tr>\n",
       "  </thead>\n",
       "  <tbody>\n",
       "    <tr>\n",
       "      <th>202</th>\n",
       "      <td>00000732_005.png</td>\n",
       "      <td>Cardiomegaly</td>\n",
       "      <td>427.932203</td>\n",
       "      <td>464.000000</td>\n",
       "      <td>412.203390</td>\n",
       "      <td>344.949153</td>\n",
       "    </tr>\n",
       "    <tr>\n",
       "      <th>918</th>\n",
       "      <td>00000732_005.png</td>\n",
       "      <td>Pneumothorax</td>\n",
       "      <td>613.831111</td>\n",
       "      <td>110.686823</td>\n",
       "      <td>172.942222</td>\n",
       "      <td>103.537778</td>\n",
       "    </tr>\n",
       "  </tbody>\n",
       "</table>\n",
       "</div>"
      ],
      "text/plain": [
       "             im_fname         label        bb_x        bb_y        bb_w  \\\n",
       "202  00000732_005.png  Cardiomegaly  427.932203  464.000000  412.203390   \n",
       "918  00000732_005.png  Pneumothorax  613.831111  110.686823  172.942222   \n",
       "\n",
       "           bb_h  \n",
       "202  344.949153  \n",
       "918  103.537778  "
      ]
     },
     "execution_count": 139,
     "metadata": {},
     "output_type": "execute_result"
    }
   ],
   "source": [
    "bbox.loc[bbox.im_fname == '00000732_005.png']"
   ]
  },
  {
   "cell_type": "code",
   "execution_count": 137,
   "metadata": {},
   "outputs": [
    {
     "data": {
      "text/plain": [
       "im_fname\n",
       "00000032_037.png    1\n",
       "00000072_000.png    1\n",
       "00000147_001.png    1\n",
       "00000149_006.png    1\n",
       "00000150_002.png    1\n",
       "00000181_061.png    1\n",
       "00000193_019.png    1\n",
       "00000211_010.png    1\n",
       "00000211_016.png    1\n",
       "00000211_019.png    1\n",
       "00000211_041.png    1\n",
       "00000344_003.png    1\n",
       "00000377_004.png    1\n",
       "00000398_003.png    1\n",
       "00000457_004.png    1\n",
       "00000468_017.png    1\n",
       "00000468_033.png    1\n",
       "00000468_041.png    1\n",
       "00000506_013.png    1\n",
       "00000583_008.png    1\n",
       "00000643_002.png    1\n",
       "00000661_000.png    1\n",
       "00000732_005.png    2\n",
       "00000740_000.png    1\n",
       "00000744_006.png    1\n",
       "00000756_001.png    1\n",
       "00000808_002.png    1\n",
       "00000830_000.png    2\n",
       "00000845_000.png    1\n",
       "00000865_006.png    1\n",
       "                   ..\n",
       "00029817_009.png    1\n",
       "00029843_001.png    1\n",
       "00029861_013.png    2\n",
       "00029894_000.png    1\n",
       "00029906_000.png    1\n",
       "00029909_003.png    1\n",
       "00029940_007.png    1\n",
       "00030039_008.png    1\n",
       "00030106_008.png    1\n",
       "00030111_007.png    1\n",
       "00030128_002.png    1\n",
       "00030162_026.png    1\n",
       "00030162_029.png    2\n",
       "00030206_013.png    1\n",
       "00030260_004.png    1\n",
       "00030260_005.png    1\n",
       "00030279_000.png    1\n",
       "00030323_015.png    1\n",
       "00030323_028.png    1\n",
       "00030394_001.png    1\n",
       "00030408_013.png    2\n",
       "00030412_001.png    1\n",
       "00030413_003.png    1\n",
       "00030434_000.png    1\n",
       "00030573_002.png    1\n",
       "00030606_006.png    1\n",
       "00030634_000.png    1\n",
       "00030635_001.png    1\n",
       "00030636_004.png    2\n",
       "00030674_000.png    1\n",
       "Length: 880, dtype: int64"
      ]
     },
     "execution_count": 137,
     "metadata": {},
     "output_type": "execute_result"
    }
   ],
   "source": [
    "bbox.groupby('im_fname').size().reset_inde"
   ]
  },
  {
   "cell_type": "code",
   "execution_count": 15,
   "metadata": {},
   "outputs": [
    {
     "data": {
      "text/plain": [
       "'00000001_000.png'"
      ]
     },
     "execution_count": 15,
     "metadata": {},
     "output_type": "execute_result"
    }
   ],
   "source": [
    "filelist[0]"
   ]
  },
  {
   "cell_type": "code",
   "execution_count": 16,
   "metadata": {},
   "outputs": [],
   "source": [
    "img = cv2.imread('data/isazi_data/nih/resize/00000001_000.png')"
   ]
  },
  {
   "cell_type": "code",
   "execution_count": 17,
   "metadata": {},
   "outputs": [
    {
     "data": {
      "text/plain": [
       "(300, 300, 3)"
      ]
     },
     "execution_count": 17,
     "metadata": {},
     "output_type": "execute_result"
    }
   ],
   "source": [
    "img.shape"
   ]
  },
  {
   "cell_type": "code",
   "execution_count": null,
   "metadata": {},
   "outputs": [],
   "source": []
  }
 ],
 "metadata": {
  "kernelspec": {
   "display_name": "Python 3",
   "language": "python",
   "name": "python3"
  },
  "language_info": {
   "codemirror_mode": {
    "name": "ipython",
    "version": 3
   },
   "file_extension": ".py",
   "mimetype": "text/x-python",
   "name": "python",
   "nbconvert_exporter": "python",
   "pygments_lexer": "ipython3",
   "version": "3.6.4"
  }
 },
 "nbformat": 4,
 "nbformat_minor": 2
}
