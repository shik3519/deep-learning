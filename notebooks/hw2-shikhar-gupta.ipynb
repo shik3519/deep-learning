{
 "cells": [
  {
   "cell_type": "markdown",
   "metadata": {},
   "source": [
    "# Sentiment analysis using 1-D CNN"
   ]
  },
  {
   "cell_type": "markdown",
   "metadata": {
    "heading_collapsed": true
   },
   "source": [
    "## Data Loading and Preprocessing"
   ]
  },
  {
   "cell_type": "markdown",
   "metadata": {
    "hidden": true
   },
   "source": [
    "The dataset used for this notebook can be found here- http://ai.stanford.edu/~amaas/data/sentiment/"
   ]
  },
  {
   "cell_type": "code",
   "execution_count": 66,
   "metadata": {
    "ExecuteTime": {
     "end_time": "2018-06-11T17:50:26.194507Z",
     "start_time": "2018-06-11T17:50:25.545440Z"
    },
    "hidden": true
   },
   "outputs": [
    {
     "name": "stdout",
     "output_type": "stream",
     "text": [
      "[nltk_data] Downloading package punkt to /home/shikhar/nltk_data...\n",
      "[nltk_data]   Package punkt is already up-to-date!\n"
     ]
    }
   ],
   "source": [
    "from pathlib import Path\n",
    "import pandas as pd\n",
    "import numpy as np\n",
    "from nltk.tokenize import word_tokenize\n",
    "import nltk\n",
    "nltk.download('punkt')\n",
    "\n",
    "import re\n",
    "from collections import defaultdict\n",
    "\n",
    "import torch\n",
    "import torch.nn as nn\n",
    "import torch.nn.functional as F\n",
    "from torch.autograd import Variable as V\n",
    "from torch.utils.data import Dataset, DataLoader\n",
    "from copy import deepcopy"
   ]
  },
  {
   "cell_type": "code",
   "execution_count": 70,
   "metadata": {
    "hidden": true
   },
   "outputs": [],
   "source": [
    "import matplotlib.pyplot as plt\n",
    "%matplotlib inline"
   ]
  },
  {
   "cell_type": "code",
   "execution_count": 2,
   "metadata": {
    "ExecuteTime": {
     "end_time": "2018-06-11T17:50:26.231338Z",
     "start_time": "2018-06-11T17:50:26.216019Z"
    },
    "hidden": true
   },
   "outputs": [],
   "source": [
    "PATH = Path('data/movie/aclImdb/')"
   ]
  },
  {
   "cell_type": "code",
   "execution_count": 3,
   "metadata": {
    "ExecuteTime": {
     "end_time": "2018-06-11T17:50:26.231338Z",
     "start_time": "2018-06-11T17:50:26.216019Z"
    },
    "hidden": true
   },
   "outputs": [
    {
     "data": {
      "text/plain": [
       "[PosixPath('data/movie/aclImdb/glove.6B.200d.txt'),\n",
       " PosixPath('data/movie/aclImdb/imdb.vocab'),\n",
       " PosixPath('data/movie/aclImdb/test'),\n",
       " PosixPath('data/movie/aclImdb/glove.6B.50d.txt'),\n",
       " PosixPath('data/movie/aclImdb/glove.6B.300d.txt'),\n",
       " PosixPath('data/movie/aclImdb/glove.6B.100d.txt'),\n",
       " PosixPath('data/movie/aclImdb/glove.6B.zip'),\n",
       " PosixPath('data/movie/aclImdb/imdbEr.txt'),\n",
       " PosixPath('data/movie/aclImdb/train'),\n",
       " PosixPath('data/movie/aclImdb/README')]"
      ]
     },
     "execution_count": 3,
     "metadata": {},
     "output_type": "execute_result"
    }
   ],
   "source": [
    "list(PATH.iterdir())"
   ]
  },
  {
   "cell_type": "code",
   "execution_count": 4,
   "metadata": {
    "ExecuteTime": {
     "end_time": "2018-06-11T17:50:26.603542Z",
     "start_time": "2018-06-11T17:50:26.464972Z"
    },
    "hidden": true
   },
   "outputs": [],
   "source": [
    "pos_train = list(Path((PATH / 'train/pos')).iterdir())\n",
    "neg_train = list(Path((PATH / 'train/neg')).iterdir())\n",
    "pos_test = list(Path((PATH / 'test/pos')).iterdir())\n",
    "neg_test = list(Path((PATH / 'test/neg')).iterdir())"
   ]
  },
  {
   "cell_type": "code",
   "execution_count": 5,
   "metadata": {
    "ExecuteTime": {
     "end_time": "2018-06-11T17:50:27.178367Z",
     "start_time": "2018-06-11T17:50:27.172678Z"
    },
    "hidden": true
   },
   "outputs": [],
   "source": [
    "def read_files(file_list, train_label=None):\n",
    "    labels = []\n",
    "    content = []\n",
    "    for fn in file_list:\n",
    "        with open(fn) as f:\n",
    "            content.append(f.readlines())\n",
    "        labels.append(train_label)\n",
    "    return content, labels"
   ]
  },
  {
   "cell_type": "code",
   "execution_count": 6,
   "metadata": {
    "ExecuteTime": {
     "end_time": "2018-06-11T17:50:28.146489Z",
     "start_time": "2018-06-11T17:50:27.434763Z"
    },
    "hidden": true
   },
   "outputs": [],
   "source": [
    "train1, label1 = read_files(pos_train, 1)\n",
    "train0, label0 = read_files(neg_train, 0)"
   ]
  },
  {
   "cell_type": "code",
   "execution_count": 7,
   "metadata": {
    "ExecuteTime": {
     "end_time": "2018-06-11T17:50:29.595768Z",
     "start_time": "2018-06-11T17:50:28.913368Z"
    },
    "hidden": true
   },
   "outputs": [],
   "source": [
    "test1, test_label1 = read_files(pos_test, 1)\n",
    "test0, test_label0 = read_files(neg_test, 0)"
   ]
  },
  {
   "cell_type": "code",
   "execution_count": 8,
   "metadata": {
    "ExecuteTime": {
     "end_time": "2018-06-11T17:50:31.013383Z",
     "start_time": "2018-06-11T17:50:31.009119Z"
    },
    "hidden": true
   },
   "outputs": [
    {
     "data": {
      "text/plain": [
       "(12500, 12500, [1, 1, 1, 1, 1], [0, 0, 0, 0, 0])"
      ]
     },
     "execution_count": 8,
     "metadata": {},
     "output_type": "execute_result"
    }
   ],
   "source": [
    "len(train1), len(train0), label1[0:5], label0[0:5]"
   ]
  },
  {
   "cell_type": "code",
   "execution_count": 9,
   "metadata": {
    "ExecuteTime": {
     "end_time": "2018-06-11T17:50:32.431136Z",
     "start_time": "2018-06-11T17:50:32.427046Z"
    },
    "hidden": true
   },
   "outputs": [
    {
     "data": {
      "text/plain": [
       "(12500, 12500, [1, 1, 1, 1, 1], [0, 0, 0, 0, 0])"
      ]
     },
     "execution_count": 9,
     "metadata": {},
     "output_type": "execute_result"
    }
   ],
   "source": [
    "len(test1), len(test0), test_label1[0:5], test_label0[0:5]"
   ]
  },
  {
   "cell_type": "code",
   "execution_count": 12,
   "metadata": {
    "ExecuteTime": {
     "end_time": "2018-06-11T17:50:33.841810Z",
     "start_time": "2018-06-11T17:50:33.838347Z"
    },
    "hidden": true
   },
   "outputs": [
    {
     "data": {
      "text/plain": [
       "\"I would highly recommend this movie! And I certainly shall be personally recommending it to my friends and family here and abroad! It was with excited anticipation, that I have just pre-ordered it online, I enjoyed it so much! It is not out until February/March 2008, but it will be well worth the wait! But first go and see it in the cinema if you can. There is nothing quite like the Cinema-Experience of a cinema-made movie! Insist that your local cinema puts it on! I went to see 'Seachd, the Inaccessible Pinacle' tonight, down here in London, and was really impressed. It is a marvel: a truly beautiful film set in the Scottish Highlands: you will laugh, you will cry, you will be moved in may different ways, you will be intrigued, and as the story within the stories is revealed, you will be amazed at that revelation.<br /><br />This movie is in Scottish Gaelic with English Subtitles, but do not let that detract you if you are not a speaker of the Gaelic: I am just starting, and my son does not, nor did many people there tonight, and it did not spoil it for us by any manner of means! Superlatives do not suffice! The photography is superb - there is no CGI here, and the movie is all the better for that- here you have true photography! The script is so skilfully and subtly written. The many-layered plot weaves the magic art of the ancient storytellers. The music is at times rousing, at times haunting, but always adding to the atmospheric ambiance. And the acting? ... it is to behold ... and the actors?... they the true weavers of this delightful yet profound film, particularly the two main actors, 'Padruig-the-young' and 'Padruig-the-elder' (A true bard, if ever there was!), who both carried a very heavy load! And the Direction? Well watch out Richard! And the Producer, responsible for raising funding, hiring key personnel, and arranging for distributors? A task well done! I hope that you will make sure that distribution goes out to our communities abroad! And the Gaelic community? Uill, without you it could not have happened! We were told that this movie was made on a low budget, but you would not know it, and I think it might well be because, for what they might have lacked in money, they more than made up for with the richness of the heart, and the warmth and co-operation of the local Scottish Gaelic community.<br /><br />A heartfelt thanks to all concerned in the making, and the sponsoring, of 'Seachd' - Mòran taing! (Many thanks!) From the Gaels to the World! From the World to the Gaels!\""
      ]
     },
     "execution_count": 12,
     "metadata": {},
     "output_type": "execute_result"
    }
   ],
   "source": [
    "train1[0][0]"
   ]
  },
  {
   "cell_type": "code",
   "execution_count": 13,
   "metadata": {
    "ExecuteTime": {
     "end_time": "2018-06-11T17:50:35.281364Z",
     "start_time": "2018-06-11T17:50:35.248716Z"
    },
    "hidden": true
   },
   "outputs": [],
   "source": [
    "# this is from https://github.com/yoonkim/CNN_sentence/blob/master/process_data.py\n",
    "def clean_str(string):\n",
    "    \"\"\"Tokenization/string cleaning. \"\"\"\n",
    "    string = string.lower()\n",
    "    string = re.sub(r\"[^A-Za-z0-9(),!?\\'\\`]\", \" \", string)\n",
    "    string = re.sub(r\"\\'s\", \" \\'s\", string)\n",
    "    string = re.sub(r\"\\'ve\", \" \\'ve\", string)\n",
    "    string = re.sub(r\"n\\'t\", \" n\\'t\", string)\n",
    "    string = re.sub(r\"\\'re\", \" \\'re\", string)\n",
    "    string = re.sub(r\"\\'d\", \" \\'d\", string)\n",
    "    string = re.sub(r\"\\'ll\", \" \\'ll\", string)\n",
    "    string = re.sub(r\",\", \" , \", string)\n",
    "    string = re.sub(r\"!\", \" ! \", string)\n",
    "    string = re.sub(r\"\\(\", \" \\( \", string)\n",
    "    string = re.sub(r\"\\)\", \" \\) \", string)\n",
    "    string = re.sub(r\"\\?\", \" \\? \", string)\n",
    "    string = re.sub(r\"\\s{2,}\", \" \", string)\n",
    "\n",
    "    string = rem_breaks(string)\n",
    "    string = string.strip().lower()\n",
    "    string = word_tokenize(string)\n",
    "    return string\n",
    "\n",
    "\n",
    "rm_break = re.compile(r'<\\s*br*\\s*/?>', re.IGNORECASE)\n",
    "\n",
    "\n",
    "def rem_breaks(x):\n",
    "    return rm_break.sub('\\n', x)"
   ]
  },
  {
   "cell_type": "code",
   "execution_count": 14,
   "metadata": {
    "ExecuteTime": {
     "end_time": "2018-06-11T17:51:11.622188Z",
     "start_time": "2018-06-11T17:50:36.701872Z"
    },
    "hidden": true
   },
   "outputs": [],
   "source": [
    "train0_tok = np.array([clean_str(line[0].strip()) for line in train0])\n",
    "train1_tok = np.array([clean_str(line[0].strip()) for line in train1])\n",
    "\n",
    "X = pd.concat(\n",
    "    [pd.Series(train0_tok), pd.Series(train1_tok)],\n",
    "    axis=0).reset_index(drop=True)\n",
    "y = pd.concat(\n",
    "    [pd.Series(label0), pd.Series(label1)], axis=0).reset_index(drop=True)"
   ]
  },
  {
   "cell_type": "code",
   "execution_count": 15,
   "metadata": {
    "ExecuteTime": {
     "end_time": "2018-06-11T17:51:52.934626Z",
     "start_time": "2018-06-11T17:51:18.800911Z"
    },
    "hidden": true
   },
   "outputs": [],
   "source": [
    "test0_tok = np.array([clean_str(line[0].strip()) for line in test0])\n",
    "test1_tok = np.array([clean_str(line[0].strip()) for line in test1])\n",
    "\n",
    "X_test = pd.concat([pd.Series(test0_tok), pd.Series(test1_tok)], axis = 0).reset_index(drop = True)\n",
    "y_test = pd.concat([pd.Series(test_label0), pd.Series(test_label1)], axis = 0).reset_index(drop=True)\n",
    "\n",
    "# X_test.head(), X_test.tail(), y_test[0:2], y_test[24998:25000]"
   ]
  },
  {
   "cell_type": "code",
   "execution_count": 16,
   "metadata": {
    "ExecuteTime": {
     "end_time": "2018-06-11T17:52:00.136348Z",
     "start_time": "2018-06-11T17:52:00.130603Z"
    },
    "hidden": true
   },
   "outputs": [],
   "source": [
    "def get_vocab(list_of_content):\n",
    "    \"\"\"Computes Dict of counts of words.\n",
    "    \n",
    "    Computes the number of times a word is on a document.\n",
    "    \"\"\"\n",
    "    vocab = defaultdict(float)\n",
    "    for line in list_of_content:\n",
    "        words = set([word for word in line])\n",
    "        for word in words:\n",
    "            vocab[word] += 1\n",
    "    return vocab"
   ]
  },
  {
   "cell_type": "code",
   "execution_count": 17,
   "metadata": {
    "ExecuteTime": {
     "end_time": "2018-06-11T17:52:03.066635Z",
     "start_time": "2018-06-11T17:52:01.650370Z"
    },
    "hidden": true
   },
   "outputs": [],
   "source": [
    "# getting vocab from training sets\n",
    "data_vocab = get_vocab(X)"
   ]
  },
  {
   "cell_type": "markdown",
   "metadata": {
    "heading_collapsed": true
   },
   "source": [
    "## Embedding Layer"
   ]
  },
  {
   "cell_type": "markdown",
   "metadata": {
    "heading_collapsed": true,
    "hidden": true
   },
   "source": [
    "### Initializing embedding layer with Glove embeddings"
   ]
  },
  {
   "cell_type": "markdown",
   "metadata": {
    "hidden": true
   },
   "source": [
    "To get glove pre-trained embeddings:\n",
    "    `wget http://nlp.stanford.edu/data/glove.6B.zip`"
   ]
  },
  {
   "cell_type": "markdown",
   "metadata": {
    "hidden": true
   },
   "source": [
    "In this section I am keeping the whole Glove embeddings. You can decide to keep just the words on your training set."
   ]
  },
  {
   "cell_type": "markdown",
   "metadata": {
    "hidden": true
   },
   "source": [
    "We would like to initialize the embeddings from our model with the pre-trained Glove embeddings. After initializing we should \"freeze\" the embeddings at least initially. The rationale is that we first want the network to learn weights for the other parameters that were randomly initialize. After that phase we could finetune the embeddings to our task. \n",
    "\n",
    "`embed.weight.requires_grad = False` freezes the embedding parameters."
   ]
  },
  {
   "cell_type": "markdown",
   "metadata": {
    "hidden": true
   },
   "source": [
    "The following code initializes the embedding. Here `V` is the vocabulary size and `D` is the embedding size. `pretrained_weight` is a numpy matrix of shape `(V, D)`."
   ]
  },
  {
   "cell_type": "code",
   "execution_count": 18,
   "metadata": {
    "ExecuteTime": {
     "end_time": "2018-06-11T17:54:30.387863Z",
     "start_time": "2018-06-11T17:54:30.381099Z"
    },
    "hidden": true
   },
   "outputs": [],
   "source": [
    "def loadGloveModel(gloveFile=\"data/movie/aclImdb/glove.6B.50d.txt\"):\n",
    "    \"\"\" Loads word vectors into a dictionary.\"\"\"\n",
    "    f = open(gloveFile, 'r')\n",
    "    word_vecs = {}\n",
    "    for line in f:\n",
    "        splitLine = line.split()\n",
    "        word = splitLine[0]\n",
    "        word_vecs[word] = np.array([float(val) for val in splitLine[1:]])\n",
    "    return word_vecs"
   ]
  },
  {
   "cell_type": "code",
   "execution_count": 19,
   "metadata": {
    "ExecuteTime": {
     "end_time": "2018-06-11T17:54:39.846739Z",
     "start_time": "2018-06-11T17:54:32.659809Z"
    },
    "hidden": true
   },
   "outputs": [],
   "source": [
    "word_vecs = loadGloveModel()"
   ]
  },
  {
   "cell_type": "code",
   "execution_count": 20,
   "metadata": {
    "ExecuteTime": {
     "end_time": "2018-06-11T17:57:24.827123Z",
     "start_time": "2018-06-11T17:57:24.820451Z"
    },
    "hidden": true
   },
   "outputs": [],
   "source": [
    "def delete_rare_words(word_vecs, data_vocab, min_df=2):\n",
    "    \"\"\" Deletes rare words from data_vocab\n",
    "    \n",
    "    Deletes words from data_vocab if they are not in word_vecs\n",
    "    and don't have at least min_df occurrencies in data_vocab.\n",
    "    \"\"\"\n",
    "    words_delete = []\n",
    "    for word in data_vocab:\n",
    "        if data_vocab[word] < min_df and word not in word_vecs:\n",
    "            words_delete.append(word)\n",
    "    for word in words_delete:\n",
    "        data_vocab.pop(word)\n",
    "    return data_vocab"
   ]
  },
  {
   "cell_type": "code",
   "execution_count": 21,
   "metadata": {
    "ExecuteTime": {
     "end_time": "2018-06-11T17:59:17.805490Z",
     "start_time": "2018-06-11T17:59:17.772399Z"
    },
    "hidden": true
   },
   "outputs": [],
   "source": [
    "# clean up issues here\n",
    "data_vocab = delete_rare_words(word_vecs, data_vocab, min_df=2) "
   ]
  },
  {
   "cell_type": "code",
   "execution_count": 22,
   "metadata": {
    "ExecuteTime": {
     "end_time": "2018-06-11T17:59:29.068212Z",
     "start_time": "2018-06-11T17:59:25.280Z"
    },
    "hidden": true
   },
   "outputs": [],
   "source": [
    "def create_embedding_matrix(word_vecs, data_vocab, min_df=2, D=50):\n",
    "    \"\"\"Creates embedding matrix from word vectors. \"\"\"\n",
    "    data_vocab = delete_rare_words(word_vecs, data_vocab, min_df)\n",
    "    V = len(data_vocab.keys()) + 2\n",
    "    vocab2index = {}\n",
    "    W = np.zeros((V, D), dtype=\"float32\")\n",
    "    vocab = [\"\", \"UNK\"]\n",
    "    # adding a vector for padding\n",
    "    W[0] = np.zeros(D, dtype='float32')\n",
    "    # adding a vector for rare words \n",
    "    W[1] = np.random.uniform(-0.25,0.25,D)\n",
    "    vocab2index[\"UNK\"] = 1\n",
    "    i = 2\n",
    "    for word in data_vocab:\n",
    "        if word in word_vecs:\n",
    "            W[i] = word_vecs[word]\n",
    "            vocab2index[word] = i\n",
    "            vocab.append(word)\n",
    "            i += 1\n",
    "        else:\n",
    "            W[i] = np.random.uniform(-0.25,0.25,D)\n",
    "            vocab2index[word] = i\n",
    "            vocab.append(word)\n",
    "            i += 1   \n",
    "    return W, np.array(vocab), vocab2index"
   ]
  },
  {
   "cell_type": "code",
   "execution_count": 23,
   "metadata": {
    "hidden": true
   },
   "outputs": [],
   "source": [
    "pretrained_weight, vocab, vocab2index = create_embedding_matrix(word_vecs, data_vocab)"
   ]
  },
  {
   "cell_type": "code",
   "execution_count": 24,
   "metadata": {
    "hidden": true
   },
   "outputs": [
    {
     "data": {
      "text/plain": [
       "\n",
       " 0.0000  0.0000  0.0000  ...   0.0000  0.0000  0.0000\n",
       " 0.0320  0.0428  0.2274  ...  -0.1944 -0.0288  0.0525\n",
       " 0.1249  0.5263 -0.0339  ...  -0.5452  0.3299  0.4364\n",
       "          ...             ⋱             ...          \n",
       "-0.4194 -0.5594 -0.9460  ...  -0.0085 -0.9222  0.3925\n",
       " 0.0834  0.1951 -0.6645  ...   0.5661 -0.5738 -0.2400\n",
       "-1.0424 -0.7553 -0.6545  ...  -1.2819 -0.4423 -0.4839\n",
       "[torch.FloatTensor of size 63478x50]"
      ]
     },
     "execution_count": 24,
     "metadata": {},
     "output_type": "execute_result"
    }
   ],
   "source": [
    "D = 50\n",
    "V = len(pretrained_weight)\n",
    "emb = nn.Embedding(V, D)\n",
    "emb.weight.data.copy_(torch.from_numpy(pretrained_weight))"
   ]
  },
  {
   "cell_type": "markdown",
   "metadata": {
    "hidden": true
   },
   "source": [
    "Question: How many parameters do we have in this embedding matrix?"
   ]
  },
  {
   "cell_type": "markdown",
   "metadata": {
    "heading_collapsed": true
   },
   "source": [
    "## Encoding training and validation sets"
   ]
  },
  {
   "cell_type": "markdown",
   "metadata": {
    "hidden": true
   },
   "source": [
    "We will be using 1D Convolutional neural networks as our model. CNNs assume a fixed input size so we need to assume a fixed size and truncate or pad the sentences as needed. Let's find a good value to set our sequence length to."
   ]
  },
  {
   "cell_type": "code",
   "execution_count": 25,
   "metadata": {
    "hidden": true
   },
   "outputs": [],
   "source": [
    "x_len = np.array([len(x) for x in X])"
   ]
  },
  {
   "cell_type": "code",
   "execution_count": 26,
   "metadata": {
    "hidden": true
   },
   "outputs": [
    {
     "data": {
      "text/plain": [
       "811"
      ]
     },
     "execution_count": 26,
     "metadata": {},
     "output_type": "execute_result"
    }
   ],
   "source": [
    "# returns the index of the word or the index of \"UNK\" otherwise\n",
    "vocab2index.get(\"will\", vocab2index[\"UNK\"])"
   ]
  },
  {
   "cell_type": "code",
   "execution_count": 27,
   "metadata": {
    "hidden": true
   },
   "outputs": [
    {
     "data": {
      "text/plain": [
       "array([ 13, 104,  20,  44, 106,  94, 101,  94,  35,  32,  19,  94,  64,\n",
       "         4,   4,  44,  99,   2,  24,  32,  52,  48,  51,  71,  54, 106,\n",
       "        71,  57, 101,   6,  63,  13,  21,  59,  94,  16,  98,  13, 101,\n",
       "         3,  83,  17,  32,  89,  85,  49,  73,  62,  94,  36,  21,   3,\n",
       "        83,   5,  92,  22,  44,  52, 106, 101,   4,   4,  39, 101,  70,\n",
       "        91,  30,  14,  29,  94,  33,  39, 101,  70,  43,  27,  14,  69,\n",
       "       102,  94,  46,  43, 105,  69,  11,  92,   4,   4,  77,  20,  44,\n",
       "        56,  61,  45,  21,  53,  10,  25,  23,  26,  16, 110,  95,  87,\n",
       "        60,   4,   4,  78,   9,  32,  28,  40,  35,  44,  84,  20,  76,\n",
       "        90,   4,   4,  31,  44,  13,  80,  86,  97,  12,  94,  37,  20,\n",
       "        44, 107,  94,  79,  41,  95,  44,  50,  96,   4,   4,  33, 104,\n",
       "        20,  44, 106,  61,  82, 108,  88,  94,  32,  74,  20,  66,  65,\n",
       "        12,  93,  32,  81,  34,  63,  32,  72,   7,  68,  94,  29,  75,\n",
       "       101,  47,  18, 100,  38,  67,  42,  94,  15,  44,   8,  16, 103,\n",
       "        24,  44,  55,  58,  61,  35,  69,  21, 109])"
      ]
     },
     "execution_count": 27,
     "metadata": {},
     "output_type": "execute_result"
    }
   ],
   "source": [
    "np.array([vocab2index.get(w, vocab2index[\"UNK\"]) for w in X[0]])"
   ]
  },
  {
   "cell_type": "code",
   "execution_count": 28,
   "metadata": {
    "hidden": true
   },
   "outputs": [],
   "source": [
    "def encode_sentence(s, N=650):\n",
    "    enc = np.zeros(N, dtype=np.int32)\n",
    "    enc1 = np.array([vocab2index.get(w, vocab2index[\"UNK\"]) for w in s])\n",
    "    l = min(N, len(enc1))\n",
    "    enc[:l] = enc1[:l]\n",
    "    return enc"
   ]
  },
  {
   "cell_type": "code",
   "execution_count": 29,
   "metadata": {
    "hidden": true
   },
   "outputs": [
    {
     "data": {
      "text/plain": [
       "array([ 13, 104,  20,  44, 106,  94, 101,  94,  35,  32,  19,  94,  64,\n",
       "         4,   4,  44,  99,   2,  24,  32,  52,  48,  51,  71,  54, 106,\n",
       "        71,  57, 101,   6,  63,  13,  21,  59,  94,  16,  98,  13, 101,\n",
       "         3,  83,  17,  32,  89,  85,  49,  73,  62,  94,  36,  21,   3,\n",
       "        83,   5,  92,  22,  44,  52, 106, 101,   4,   4,  39, 101,  70,\n",
       "        91,  30,  14,  29,  94,  33,  39, 101,  70,  43,  27,  14,  69,\n",
       "       102,  94,  46,  43, 105,  69,  11,  92,   4,   4,  77,  20,  44,\n",
       "        56,  61,  45,  21,  53,  10,  25,  23,  26,  16, 110,  95,  87,\n",
       "        60,   4,   4,  78,   9,  32,  28,  40,  35,  44,  84,  20,  76,\n",
       "        90,   4,   4,  31,  44,  13,  80,  86,  97,  12,  94,  37,  20,\n",
       "        44, 107,  94,  79,  41,  95,  44,  50,  96,   4,   4,  33, 104,\n",
       "        20,  44, 106,  61,  82, 108,  88,  94,  32,  74,  20,  66,  65,\n",
       "        12,  93,  32,  81,  34,  63,  32,  72,   7,  68,  94,  29,  75,\n",
       "       101,  47,  18, 100,  38,  67,  42,  94,  15,  44,   8,  16, 103,\n",
       "        24,  44,  55,  58,  61,  35,  69,  21, 109,   0,   0,   0,   0,\n",
       "         0,   0,   0,   0,   0,   0,   0,   0,   0,   0,   0,   0,   0,\n",
       "         0,   0,   0,   0,   0,   0,   0,   0,   0,   0,   0,   0,   0,\n",
       "         0,   0,   0,   0,   0,   0,   0,   0,   0,   0,   0,   0,   0,\n",
       "         0,   0,   0,   0,   0,   0,   0,   0,   0,   0,   0,   0,   0,\n",
       "         0,   0,   0,   0,   0,   0,   0,   0,   0,   0,   0,   0,   0,\n",
       "         0,   0,   0,   0,   0,   0,   0,   0,   0,   0,   0,   0,   0,\n",
       "         0,   0,   0,   0,   0,   0,   0,   0,   0,   0,   0,   0,   0,\n",
       "         0,   0,   0,   0,   0,   0,   0,   0,   0,   0,   0,   0,   0,\n",
       "         0,   0,   0,   0,   0,   0,   0,   0,   0,   0,   0,   0,   0,\n",
       "         0,   0,   0,   0,   0,   0,   0,   0,   0,   0,   0,   0,   0,\n",
       "         0,   0,   0,   0,   0,   0,   0,   0,   0,   0,   0,   0,   0,\n",
       "         0,   0,   0,   0,   0,   0,   0,   0,   0,   0,   0,   0,   0,\n",
       "         0,   0,   0,   0,   0,   0,   0,   0,   0,   0,   0,   0,   0,\n",
       "         0,   0,   0,   0,   0,   0,   0,   0,   0,   0,   0,   0,   0,\n",
       "         0,   0,   0,   0,   0,   0,   0,   0,   0,   0,   0,   0,   0,\n",
       "         0,   0,   0,   0,   0,   0,   0,   0,   0,   0,   0,   0,   0,\n",
       "         0,   0,   0,   0,   0,   0,   0,   0,   0,   0,   0,   0,   0,\n",
       "         0,   0,   0,   0,   0,   0,   0,   0,   0,   0,   0,   0,   0,\n",
       "         0,   0,   0,   0,   0,   0,   0,   0,   0,   0,   0,   0,   0,\n",
       "         0,   0,   0,   0,   0,   0,   0,   0,   0,   0,   0,   0,   0,\n",
       "         0,   0,   0,   0,   0,   0,   0,   0,   0,   0,   0,   0,   0,\n",
       "         0,   0,   0,   0,   0,   0,   0,   0,   0,   0,   0,   0,   0,\n",
       "         0,   0,   0,   0,   0,   0,   0,   0,   0,   0,   0,   0,   0,\n",
       "         0,   0,   0,   0,   0,   0,   0,   0,   0,   0,   0,   0,   0,\n",
       "         0,   0,   0,   0,   0,   0,   0,   0,   0,   0,   0,   0,   0,\n",
       "         0,   0,   0,   0,   0,   0,   0,   0,   0,   0,   0,   0,   0,\n",
       "         0,   0,   0,   0,   0,   0,   0,   0,   0,   0,   0,   0,   0,\n",
       "         0,   0,   0,   0,   0,   0,   0,   0,   0,   0,   0,   0,   0,\n",
       "         0,   0,   0,   0,   0,   0,   0,   0,   0,   0,   0,   0,   0,\n",
       "         0,   0,   0,   0,   0,   0,   0,   0,   0,   0,   0,   0,   0,\n",
       "         0,   0,   0,   0,   0,   0,   0,   0,   0,   0,   0,   0,   0,\n",
       "         0,   0,   0,   0,   0,   0,   0,   0,   0,   0,   0,   0,   0,\n",
       "         0,   0,   0,   0,   0,   0,   0,   0,   0,   0,   0,   0,   0,\n",
       "         0,   0,   0,   0,   0,   0,   0,   0,   0,   0,   0,   0,   0,\n",
       "         0,   0,   0,   0,   0,   0,   0,   0,   0,   0,   0,   0,   0],\n",
       "      dtype=int32)"
      ]
     },
     "execution_count": 29,
     "metadata": {},
     "output_type": "execute_result"
    }
   ],
   "source": [
    "encode_sentence(X[0])"
   ]
  },
  {
   "cell_type": "code",
   "execution_count": 30,
   "metadata": {
    "hidden": true
   },
   "outputs": [
    {
     "data": {
      "text/plain": [
       "(25000, 650)"
      ]
     },
     "execution_count": 30,
     "metadata": {},
     "output_type": "execute_result"
    }
   ],
   "source": [
    "x_train = np.vstack([encode_sentence(x) for x in X])\n",
    "x_train.shape"
   ]
  },
  {
   "cell_type": "code",
   "execution_count": 31,
   "metadata": {
    "hidden": true
   },
   "outputs": [
    {
     "data": {
      "text/plain": [
       "(25000, 650)"
      ]
     },
     "execution_count": 31,
     "metadata": {},
     "output_type": "execute_result"
    }
   ],
   "source": [
    "x_test = np.vstack([encode_sentence(x) for x in X_test])\n",
    "x_test.shape"
   ]
  },
  {
   "cell_type": "code",
   "execution_count": 32,
   "metadata": {
    "hidden": true
   },
   "outputs": [],
   "source": [
    "del X, X_test"
   ]
  },
  {
   "cell_type": "markdown",
   "metadata": {},
   "source": [
    "## 1D CNN model for sentence classification"
   ]
  },
  {
   "cell_type": "markdown",
   "metadata": {},
   "source": [
    "Notation:\n",
    "* V -- vocabulary size\n",
    "* D -- embedding size\n",
    "* N -- MAX Sentence length"
   ]
  },
  {
   "cell_type": "markdown",
   "metadata": {},
   "source": [
    "Dataloader"
   ]
  },
  {
   "cell_type": "code",
   "execution_count": 36,
   "metadata": {},
   "outputs": [],
   "source": [
    "import torch\n",
    "from torch.utils import data\n",
    "\n",
    "\n",
    "class Dataset(data.Dataset):\n",
    "\n",
    "    'Characterizes a dataset for PyTorch'\n",
    "\n",
    "    def __init__(self, x, y):\n",
    "        'Initialization'\n",
    "        self.x = x\n",
    "        self.y = y\n",
    "\n",
    "    def __len__(self):\n",
    "        'Denotes the total number of samples'\n",
    "        return len(self.y)\n",
    "\n",
    "    def __getitem__(self, index):\n",
    "        'Generates one sample of data'\n",
    "        # Select sample\n",
    "        review = self.x[index]\n",
    "        sentiment = self.y[index]\n",
    "        return review, sentiment"
   ]
  },
  {
   "cell_type": "code",
   "execution_count": 41,
   "metadata": {},
   "outputs": [],
   "source": [
    "train_reviews = torch.LongTensor(x_train)\n",
    "train_sentiment = torch.FloatTensor(np.array(y))\n",
    "\n",
    "train_dataset = Dataset(train_reviews, train_sentiment)\n",
    "\n",
    "train_loader = torch.utils.data.DataLoader(\n",
    "    train_dataset, batch_size=64, shuffle=True)"
   ]
  },
  {
   "cell_type": "code",
   "execution_count": 42,
   "metadata": {},
   "outputs": [],
   "source": [
    "test_reviews = torch.LongTensor(x_test)\n",
    "test_sentiment = torch.FloatTensor(np.array(y_test))\n",
    "\n",
    "test_dataset = Dataset(test_reviews, test_sentiment)\n",
    "\n",
    "test_loader = torch.utils.data.DataLoader(\n",
    "    test_dataset, batch_size=64, shuffle=True)"
   ]
  },
  {
   "cell_type": "markdown",
   "metadata": {},
   "source": [
    "Model class"
   ]
  },
  {
   "cell_type": "code",
   "execution_count": 43,
   "metadata": {},
   "outputs": [],
   "source": [
    "class SentenceCNN(nn.Module):\n",
    "    def __init__(self, W, D, glove_weights):\n",
    "        super(SentenceCNN, self).__init__()\n",
    "        self.glove_weights = glove_weights\n",
    "        self.embedding = nn.Embedding(W, D, padding_idx=0)\n",
    "        self.embedding.weight.data.copy_(torch.from_numpy(self.glove_weights))\n",
    "        self.embedding.weight.requires_grad = False\n",
    "\n",
    "        self.conv_3 = nn.Conv1d(in_channels=D, out_channels=50, kernel_size=3)\n",
    "        self.conv_4 = nn.Conv1d(in_channels=D, out_channels=50, kernel_size=4)\n",
    "        self.conv_5 = nn.Conv1d(in_channels=D, out_channels=50, kernel_size=5)\n",
    "\n",
    "        self.dropout = nn.Dropout(p=0.5)\n",
    "        self.fc = nn.Linear(150, 1)\n",
    "\n",
    "    def forward(self, x):\n",
    "        x = self.embedding(x)\n",
    "        x = x.transpose(1, 2)\n",
    "        x3 = F.relu(self.conv_3(x))\n",
    "        x4 = F.relu(self.conv_4(x))\n",
    "        x5 = F.relu(self.conv_5(x))\n",
    "        x3 = nn.MaxPool1d(kernel_size=588)(x3)\n",
    "        x4 = nn.MaxPool1d(kernel_size=587)(x4)\n",
    "        x5 = nn.MaxPool1d(kernel_size=586)(x5)\n",
    "        out = torch.cat([x3, x4, x5], 2)\n",
    "        out = out.view(out.size(0), -1)\n",
    "        out = self.dropout(out)\n",
    "        return self.fc(out)"
   ]
  },
  {
   "cell_type": "code",
   "execution_count": 45,
   "metadata": {},
   "outputs": [],
   "source": [
    "W = len(pretrained_weight)\n",
    "D = 50\n",
    "N = 40\n",
    "model = SentenceCNN(W, D, glove_weights=pretrained_weight)"
   ]
  },
  {
   "cell_type": "markdown",
   "metadata": {},
   "source": [
    "Training and testing loop"
   ]
  },
  {
   "cell_type": "code",
   "execution_count": 51,
   "metadata": {},
   "outputs": [],
   "source": [
    "def train_epocs(model, epochs=10, lr=0.01, wd=0.0):\n",
    "    parameters = filter(\n",
    "        lambda p: p.requires_grad,\n",
    "        model.parameters())  # get all parameters which need grad\n",
    "    optimizer = torch.optim.Adam(parameters, lr=lr, weight_decay=wd)\n",
    "\n",
    "    for i in range(epochs):\n",
    "        ctr = 0.\n",
    "        model.train()  # into training mode\n",
    "        running_loss = 0.0\n",
    "        for j, data in enumerate(train_loader):\n",
    "            ctr += 1\n",
    "            x, y = data\n",
    "            x = V(x).cuda()\n",
    "            y = V(y).float().cuda()\n",
    "            y_hat = model(x)\n",
    "            loss = F.binary_cross_entropy_with_logits(y_hat, y.unsqueeze(-1))\n",
    "            optimizer.zero_grad()\n",
    "            loss.backward()\n",
    "            optimizer.step()\n",
    "            running_loss += loss.data[0]\n",
    "        print(\"training loss for epoch \", i + 1, \": \",\n",
    "              running_loss / ctr)  # used to be loss.data[0]\n",
    "        test_loss(model)"
   ]
  },
  {
   "cell_type": "code",
   "execution_count": 52,
   "metadata": {},
   "outputs": [],
   "source": [
    "def test_loss(model):\n",
    "    model.eval()\n",
    "\n",
    "    running_loss = 0\n",
    "    total = 0\n",
    "    correct = 0\n",
    "\n",
    "    for j, data in enumerate(test_loader):\n",
    "        x, y = data\n",
    "        x, y = V(x), V(y).float()\n",
    "        x = x.cuda()  # put on gpu\n",
    "        y = y.cuda()\n",
    "        y_hat = model(x)\n",
    "        loss_now = F.binary_cross_entropy_with_logits(y_hat, y.unsqueeze(-1))\n",
    "        y_pred = y_hat > 0\n",
    "        correct_now = (y_pred.float() == y.unsqueeze(-1)).sum()\n",
    "        correct += correct_now.data[0]\n",
    "        total += len(y.float())\n",
    "        running_loss += loss_now.data[0]\n",
    "\n",
    "    accuracy = correct / total\n",
    "    print(\"validation loss\", \": \", running_loss / len(test_loader), 'Accuracy',\n",
    "          accuracy, '\\n')  # j means this many iterations till end"
   ]
  },
  {
   "cell_type": "code",
   "execution_count": 98,
   "metadata": {},
   "outputs": [],
   "source": [
    "model = SentenceCNN(W, D, glove_weights=pretrained_weight).cuda()"
   ]
  },
  {
   "cell_type": "markdown",
   "metadata": {},
   "source": [
    "Learning rate finder"
   ]
  },
  {
   "cell_type": "code",
   "execution_count": 68,
   "metadata": {},
   "outputs": [],
   "source": [
    "def lrfinder(start, end, model, train_loader, epochs=2):\n",
    "    model_c = deepcopy(model)\n",
    "    model_c.train()  # into training mode\n",
    "    lrs = np.linspace(start, end, epochs * len(train_loader))\n",
    "    parameters = filter(\n",
    "        lambda p: p.requires_grad,\n",
    "        model_c.parameters())  # get all parameters which need grad\n",
    "    optimizer = torch.optim.Adam(parameters, start)\n",
    "    losses = []\n",
    "    ctr = 0\n",
    "    for i in range(epochs):\n",
    "        for j, data in enumerate(train_loader):\n",
    "            optimizer.param_groups[0]['lr'] = lrs[ctr]\n",
    "            ctr = ctr + 1\n",
    "            x, y = data\n",
    "            x = V(x).cuda()\n",
    "            y = V(y).float().cuda()\n",
    "            y_hat = model_c(x)\n",
    "            loss = F.binary_cross_entropy_with_logits(y_hat, y.unsqueeze(-1))\n",
    "            optimizer.zero_grad()\n",
    "            loss.backward()\n",
    "            optimizer.step()\n",
    "            losses.append(loss.data[0])\n",
    "    plt.plot(lrs, losses)"
   ]
  },
  {
   "cell_type": "code",
   "execution_count": 71,
   "metadata": {},
   "outputs": [
    {
     "data": {
      "image/png": "[encoded data removed]",
      "text/plain": [
       "<Figure size 432x288 with 1 Axes>"
      ]
     },
     "metadata": {},
     "output_type": "display_data"
    }
   ],
   "source": [
    "lrfinder(1e-5, 1e-2, model, train_loader, epochs=1)"
   ]
  },
  {
   "cell_type": "markdown",
   "metadata": {},
   "source": [
    "Going with fixed learning rate of .004"
   ]
  },
  {
   "cell_type": "code",
   "execution_count": 99,
   "metadata": {},
   "outputs": [
    {
     "name": "stdout",
     "output_type": "stream",
     "text": [
      "training loss for epoch  1 :  0.5221643803826989\n",
      "validation loss :  0.39618929012504683 Accuracy 0.82324 \n",
      "\n",
      "training loss for epoch  2 :  0.4374901651192809\n",
      "validation loss :  0.37615701540961594 Accuracy 0.8352 \n",
      "\n",
      "training loss for epoch  3 :  0.41517072020436796\n",
      "validation loss :  0.37293083096861535 Accuracy 0.83284 \n",
      "\n",
      "training loss for epoch  4 :  0.3874170582007874\n",
      "validation loss :  0.3591991098945403 Accuracy 0.84 \n",
      "\n",
      "training loss for epoch  5 :  0.379407027150359\n",
      "validation loss :  0.3758380578835602 Accuracy 0.82908 \n",
      "\n",
      "training loss for epoch  6 :  0.3682904304064753\n",
      "validation loss :  0.3565570946087313 Accuracy 0.84268 \n",
      "\n",
      "training loss for epoch  7 :  0.3556393448958921\n",
      "validation loss :  0.3617253544385476 Accuracy 0.83732 \n",
      "\n",
      "training loss for epoch  8 :  0.33845104239023555\n",
      "validation loss :  0.3649851292219308 Accuracy 0.83964 \n",
      "\n",
      "training loss for epoch  9 :  0.3355092489353531\n",
      "validation loss :  0.36516806605221974 Accuracy 0.83596 \n",
      "\n",
      "training loss for epoch  10 :  0.3236332543746895\n",
      "validation loss :  0.3495678491223499 Accuracy 0.84652 \n",
      "\n"
     ]
    }
   ],
   "source": [
    "train_epocs(model, epochs=10, lr=0.004)"
   ]
  },
  {
   "cell_type": "code",
   "execution_count": 100,
   "metadata": {
    "scrolled": true
   },
   "outputs": [
    {
     "name": "stderr",
     "output_type": "stream",
     "text": [
      "/home/shikhar/anaconda3/envs/fastai/lib/python3.6/site-packages/torch/serialization.py:159: UserWarning: Couldn't retrieve source code for container of type SentenceCNN. It won't be checked for correctness upon loading.\n",
      "  \"type \" + obj.__name__ + \". It won't be checked \"\n"
     ]
    }
   ],
   "source": [
    "torch.save(model,'data/movie/aclImdb/m1')"
   ]
  },
  {
   "cell_type": "code",
   "execution_count": 101,
   "metadata": {},
   "outputs": [],
   "source": [
    "m = torch.load('data/movie/aclImdb/m1')"
   ]
  },
  {
   "cell_type": "code",
   "execution_count": 102,
   "metadata": {},
   "outputs": [
    {
     "data": {
      "image/png": "[encoded data removed]",
      "text/plain": [
       "<Figure size 432x288 with 1 Axes>"
      ]
     },
     "metadata": {},
     "output_type": "display_data"
    }
   ],
   "source": [
    "lrfinder(1e-5, 1e-3, m, train_loader, epochs=1)"
   ]
  },
  {
   "cell_type": "markdown",
   "metadata": {},
   "source": [
    "So we can see that there seems to be no ideal learning rate. So we'll go on and unfreeze the layers"
   ]
  },
  {
   "cell_type": "markdown",
   "metadata": {},
   "source": [
    "Unfreeze the embeddings for finetuning"
   ]
  },
  {
   "cell_type": "code",
   "execution_count": 103,
   "metadata": {},
   "outputs": [],
   "source": [
    "model.embedding.weight.requires_grad = True\n",
    "\n",
    "parameters = filter(lambda p: p.requires_grad, model.parameters())\n",
    "print([p.size() for p in parameters])"
   ]
  },
  {
   "cell_type": "code",
   "execution_count": 108,
   "metadata": {},
   "outputs": [],
   "source": [
    "train_loader.batch_size = 1024"
   ]
  },
  {
   "cell_type": "code",
   "execution_count": 110,
   "metadata": {},
   "outputs": [
    {
     "data": {
      "image/png": "[encoded data removed]",
      "text/plain": [
       "<Figure size 432x288 with 1 Axes>"
      ]
     },
     "metadata": {},
     "output_type": "display_data"
    }
   ],
   "source": [
    "lrfinder(1e-5, 1e-3, model, train_loader, epochs=5)"
   ]
  },
  {
   "cell_type": "code",
   "execution_count": 94,
   "metadata": {},
   "outputs": [],
   "source": [
    "train_loader.batch_size = 64"
   ]
  },
  {
   "cell_type": "code",
   "execution_count": 111,
   "metadata": {},
   "outputs": [
    {
     "name": "stdout",
     "output_type": "stream",
     "text": [
      "training loss for epoch  1 :  0.274412384671171\n",
      "validation loss :  0.32674697152031656 Accuracy 0.85892 \n",
      "\n",
      "training loss for epoch  2 :  0.23723673803345932\n",
      "validation loss :  0.3193658227124787 Accuracy 0.86412 \n",
      "\n",
      "training loss for epoch  3 :  0.20515623585799772\n",
      "validation loss :  0.316279380865719 Accuracy 0.86712 \n",
      "\n"
     ]
    }
   ],
   "source": [
    "train_epocs(model, epochs=3, lr=0.0004)"
   ]
  },
  {
   "cell_type": "code",
   "execution_count": 112,
   "metadata": {
    "scrolled": true
   },
   "outputs": [
    {
     "name": "stderr",
     "output_type": "stream",
     "text": [
      "/home/shikhar/anaconda3/envs/fastai/lib/python3.6/site-packages/torch/serialization.py:159: UserWarning: Couldn't retrieve source code for container of type SentenceCNN. It won't be checked for correctness upon loading.\n",
      "  \"type \" + obj.__name__ + \". It won't be checked \"\n"
     ]
    }
   ],
   "source": [
    "torch.save(model,'data/movie/aclImdb/m2')"
   ]
  },
  {
   "cell_type": "code",
   "execution_count": 113,
   "metadata": {},
   "outputs": [],
   "source": [
    "m = torch.load('data/movie/aclImdb/m2')"
   ]
  },
  {
   "cell_type": "code",
   "execution_count": 114,
   "metadata": {},
   "outputs": [
    {
     "name": "stdout",
     "output_type": "stream",
     "text": [
      "training loss for epoch  1 :  0.19117375383215487\n",
      "validation loss :  0.31142320603970675 Accuracy 0.87084 \n",
      "\n",
      "training loss for epoch  2 :  0.16609368686709564\n",
      "validation loss :  0.3130367468766239 Accuracy 0.87096 \n",
      "\n",
      "training loss for epoch  3 :  0.15079255550718673\n",
      "validation loss :  0.3119653846373034 Accuracy 0.87196 \n",
      "\n"
     ]
    }
   ],
   "source": [
    "train_epocs(m, epochs=3, lr=0.0004)"
   ]
  },
  {
   "cell_type": "code",
   "execution_count": 115,
   "metadata": {},
   "outputs": [
    {
     "name": "stdout",
     "output_type": "stream",
     "text": [
      "training loss for epoch  1 :  0.13586054856667434\n",
      "validation loss :  0.3140954465779197 Accuracy 0.87392 \n",
      "\n",
      "training loss for epoch  2 :  0.12284484616649882\n",
      "validation loss :  0.3183833338186869 Accuracy 0.8732 \n",
      "\n",
      "training loss for epoch  3 :  0.1091910782401138\n",
      "validation loss :  0.3222662996300651 Accuracy 0.87472 \n",
      "\n"
     ]
    }
   ],
   "source": [
    "train_epocs(m, epochs=3, lr=0.0004)"
   ]
  },
  {
   "cell_type": "code",
   "execution_count": 116,
   "metadata": {
    "scrolled": false
   },
   "outputs": [
    {
     "name": "stderr",
     "output_type": "stream",
     "text": [
      "/home/shikhar/anaconda3/envs/fastai/lib/python3.6/site-packages/torch/serialization.py:159: UserWarning: Couldn't retrieve source code for container of type SentenceCNN. It won't be checked for correctness upon loading.\n",
      "  \"type \" + obj.__name__ + \". It won't be checked \"\n"
     ]
    }
   ],
   "source": [
    "torch.save(m,'data/movie/aclImdb/m3')"
   ]
  },
  {
   "cell_type": "code",
   "execution_count": 117,
   "metadata": {},
   "outputs": [],
   "source": [
    "m = torch.load('data/movie/aclImdb/m3')"
   ]
  },
  {
   "cell_type": "code",
   "execution_count": 120,
   "metadata": {},
   "outputs": [],
   "source": [
    "train_loader.batch_size = 2048"
   ]
  },
  {
   "cell_type": "code",
   "execution_count": 122,
   "metadata": {},
   "outputs": [
    {
     "data": {
      "image/png": "[encoded data removed]",
      "text/plain": [
       "<Figure size 432x288 with 1 Axes>"
      ]
     },
     "metadata": {},
     "output_type": "display_data"
    }
   ],
   "source": [
    "lrfinder(1e-5, 4e-4, m, train_loader, epochs=5)"
   ]
  },
  {
   "cell_type": "code",
   "execution_count": 123,
   "metadata": {},
   "outputs": [
    {
     "name": "stdout",
     "output_type": "stream",
     "text": [
      "training loss for epoch  1 :  0.09749822328557901\n",
      "validation loss :  0.3237099426672282 Accuracy 0.87628 \n",
      "\n",
      "training loss for epoch  2 :  0.09687966457508562\n",
      "validation loss :  0.32439211891282854 Accuracy 0.87656 \n",
      "\n",
      "training loss for epoch  3 :  0.08681220739908382\n",
      "validation loss :  0.32803455082809224 Accuracy 0.87616 \n",
      "\n"
     ]
    }
   ],
   "source": [
    "train_epocs(m, epochs=3, lr=0.0002)"
   ]
  },
  {
   "cell_type": "code",
   "execution_count": 124,
   "metadata": {},
   "outputs": [
    {
     "name": "stdout",
     "output_type": "stream",
     "text": [
      "[torch.Size([50, 50, 3]), torch.Size([50]), torch.Size([50, 50, 4]), torch.Size([50]), torch.Size([50, 50, 5]), torch.Size([50]), torch.Size([1, 150]), torch.Size([1])]\n"
     ]
    }
   ],
   "source": [
    "model.embedding.weight.requires_grad = False\n",
    "\n",
    "parameters = filter(lambda p: p.requires_grad, model.parameters())\n",
    "print([p.size() for p in parameters])"
   ]
  },
  {
   "cell_type": "code",
   "execution_count": 125,
   "metadata": {
    "scrolled": false
   },
   "outputs": [
    {
     "name": "stderr",
     "output_type": "stream",
     "text": [
      "/home/shikhar/anaconda3/envs/fastai/lib/python3.6/site-packages/torch/serialization.py:159: UserWarning: Couldn't retrieve source code for container of type SentenceCNN. It won't be checked for correctness upon loading.\n",
      "  \"type \" + obj.__name__ + \". It won't be checked \"\n"
     ]
    }
   ],
   "source": [
    "torch.save(m,'data/movie/aclImdb/m4')"
   ]
  },
  {
   "cell_type": "code",
   "execution_count": 126,
   "metadata": {},
   "outputs": [],
   "source": [
    "m = torch.load('data/movie/aclImdb/m4')"
   ]
  },
  {
   "cell_type": "code",
   "execution_count": 127,
   "metadata": {},
   "outputs": [
    {
     "data": {
      "text/plain": [
       "2048"
      ]
     },
     "execution_count": 127,
     "metadata": {},
     "output_type": "execute_result"
    }
   ],
   "source": [
    "train_loader.batch_size"
   ]
  },
  {
   "cell_type": "code",
   "execution_count": 129,
   "metadata": {},
   "outputs": [
    {
     "data": {
      "image/png": "[encoded data removed]",
      "text/plain": [
       "<Figure size 432x288 with 1 Axes>"
      ]
     },
     "metadata": {},
     "output_type": "display_data"
    }
   ],
   "source": [
    "lrfinder(1e-5, 5e-4, m, train_loader, epochs=5)"
   ]
  },
  {
   "cell_type": "code",
   "execution_count": 130,
   "metadata": {},
   "outputs": [
    {
     "name": "stdout",
     "output_type": "stream",
     "text": [
      "training loss for epoch  1 :  0.08162848428939767\n",
      "validation loss :  0.3291333240011464 Accuracy 0.87712 \n",
      "\n",
      "training loss for epoch  2 :  0.07766528004099188\n",
      "validation loss :  0.33275655001554344 Accuracy 0.87692 \n",
      "\n",
      "training loss for epoch  3 :  0.07438862727731085\n",
      "validation loss :  0.3353022568480438 Accuracy 0.87624 \n",
      "\n"
     ]
    }
   ],
   "source": [
    "train_epocs(m, epochs=3, lr=0.00015)"
   ]
  },
  {
   "cell_type": "markdown",
   "metadata": {},
   "source": [
    "Final validation accuracy: 87%"
   ]
  }
 ],
 "metadata": {
  "kernelspec": {
   "display_name": "Python 3",
   "language": "python",
   "name": "python3"
  },
  "language_info": {
   "codemirror_mode": {
    "name": "ipython",
    "version": 3
   },
   "file_extension": ".py",
   "mimetype": "text/x-python",
   "name": "python",
   "nbconvert_exporter": "python",
   "pygments_lexer": "ipython3",
   "version": "3.6.5"
  },
  "toc": {
   "nav_menu": {},
   "number_sections": true,
   "sideBar": true,
   "skip_h1_title": false,
   "toc_cell": false,
   "toc_position": {},
   "toc_section_display": "block",
   "toc_window_display": false
  },
  "varInspector": {
   "cols": {
    "lenName": 16,
    "lenType": 16,
    "lenVar": 40
   },
   "kernels_config": {
    "python": {
     "delete_cmd_postfix": "",
     "delete_cmd_prefix": "del ",
     "library": "var_list.py",
     "varRefreshCmd": "print(var_dic_list())"
    },
    "r": {
     "delete_cmd_postfix": ") ",
     "delete_cmd_prefix": "rm(",
     "library": "var_list.r",
     "varRefreshCmd": "cat(var_dic_list()) "
    }
   },
   "types_to_exclude": [
    "module",
    "function",
    "builtin_function_or_method",
    "instance",
    "_Feature"
   ],
   "window_display": false
  }
 },
 "nbformat": 4,
 "nbformat_minor": 2
}
