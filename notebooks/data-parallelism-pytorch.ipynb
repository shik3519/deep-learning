{
 "cells": [
  {
   "cell_type": "code",
   "execution_count": 19,
   "metadata": {},
   "outputs": [],
   "source": [
    "import torch\n",
    "import torch.nn as nn\n",
    "from torch.utils.data import Dataset, DataLoader"
   ]
  },
  {
   "cell_type": "code",
   "execution_count": 20,
   "metadata": {},
   "outputs": [],
   "source": [
    "from torch.autograd import Variable"
   ]
  },
  {
   "cell_type": "code",
   "execution_count": 21,
   "metadata": {},
   "outputs": [],
   "source": [
    "# Parameters and DataLoaders\n",
    "input_size = 5\n",
    "output_size = 2\n",
    "\n",
    "batch_size = 30\n",
    "data_size = 100"
   ]
  },
  {
   "cell_type": "code",
   "execution_count": 22,
   "metadata": {},
   "outputs": [],
   "source": [
    "class RandomDataset(Dataset):\n",
    "    def __init__(self, size, length):\n",
    "        self.len = length\n",
    "        self.data = torch.randn(length, size)\n",
    "\n",
    "    def __getitem__(self, index):\n",
    "        return self.data[index]\n",
    "\n",
    "    def __len__(self):\n",
    "        return self.len"
   ]
  },
  {
   "cell_type": "code",
   "execution_count": 23,
   "metadata": {},
   "outputs": [],
   "source": [
    "rand_loader = DataLoader(\n",
    "    dataset=RandomDataset(input_size, 100),\n",
    "    batch_size=batch_size,\n",
    "    shuffle=True)"
   ]
  },
  {
   "cell_type": "code",
   "execution_count": 24,
   "metadata": {},
   "outputs": [
    {
     "data": {
      "text/plain": [
       "\n",
       " 1.7033  0.0318  0.7117  2.3530 -0.1964\n",
       "-0.2911  0.1796  0.6369 -1.0831  0.2739\n",
       "-0.1485  0.6421  1.1597 -0.3691  1.8992\n",
       "-1.4055 -0.3282 -1.3971  1.2074 -0.6966\n",
       "-0.3124 -0.0650  0.0826 -1.1087 -0.5881\n",
       " 0.8661  1.9796 -1.2223  1.6201  0.4620\n",
       " 0.7342  0.9371 -1.7668 -1.0448  1.7327\n",
       "-2.1315 -0.6592  1.0555 -0.1611  0.4590\n",
       " 0.4413 -0.5077  1.3567 -1.7066  0.2035\n",
       "-0.7230  0.3752 -1.5939  0.5789 -0.3011\n",
       " 0.3924 -0.9702  0.0447  0.9921 -0.9406\n",
       "-0.8304 -0.8141  0.4035 -0.7744 -0.3471\n",
       " 0.6198 -0.0876  0.4416  1.2931  0.5100\n",
       "-1.7110  1.2840 -1.0052 -1.9411 -0.2295\n",
       " 1.0102  0.1440  0.9532 -1.4827  2.9331\n",
       " 1.7127  0.9555 -1.4754  0.8292 -0.3990\n",
       "-1.5226 -0.5965 -0.9091 -0.9722  0.8916\n",
       "-1.2621 -0.5046 -0.8842 -0.2329  1.2952\n",
       " 0.4026 -0.3046 -1.0071 -1.3523 -0.3811\n",
       "-1.0128 -1.1289 -1.6869  0.2613  0.3565\n",
       "-0.4959 -0.3452 -0.0787  0.4952 -0.2558\n",
       " 0.4317 -0.8314 -2.4948 -2.5964 -0.7633\n",
       " 0.3406  0.7038 -1.6408  0.5353  0.1068\n",
       " 1.2664 -0.6243 -0.0040 -0.9655 -0.1047\n",
       " 1.5736 -0.0099  0.9368 -1.8695 -1.8844\n",
       " 0.0515  1.1058 -0.2797 -1.2831  0.4664\n",
       " 0.0992 -0.2399 -0.5853  1.7227 -2.0823\n",
       "-1.1607 -0.7331 -1.1013 -0.6569 -0.2919\n",
       "-0.0817 -0.4338 -0.3336  1.9656  0.9303\n",
       "-0.1078  0.3962 -0.4689  0.6777  0.0399\n",
       "[torch.FloatTensor of size 30x5]"
      ]
     },
     "execution_count": 24,
     "metadata": {},
     "output_type": "execute_result"
    }
   ],
   "source": [
    "next(iter(rand_loader))"
   ]
  },
  {
   "cell_type": "code",
   "execution_count": 25,
   "metadata": {},
   "outputs": [],
   "source": [
    "class Model(nn.Module):\n",
    "    # Our model\n",
    "\n",
    "    def __init__(self, input_size, output_size):\n",
    "        super(Model, self).__init__()\n",
    "        self.fc = nn.Linear(input_size, output_size)\n",
    "\n",
    "    def forward(self, input):\n",
    "        output = self.fc(input)\n",
    "        print(\"\\tIn Model: input size\", input.size(), \"output size\",\n",
    "              output.size())\n",
    "\n",
    "        return output"
   ]
  },
  {
   "cell_type": "code",
   "execution_count": 26,
   "metadata": {},
   "outputs": [],
   "source": [
    "model = Model(input_size, output_size)"
   ]
  },
  {
   "cell_type": "code",
   "execution_count": 27,
   "metadata": {},
   "outputs": [],
   "source": [
    "model = nn.DataParallel(model,device_ids=[0, 1, 2])"
   ]
  },
  {
   "cell_type": "code",
   "execution_count": 28,
   "metadata": {},
   "outputs": [
    {
     "data": {
      "text/plain": [
       "DataParallel(\n",
       "  (module): Model(\n",
       "    (fc): Linear(in_features=5, out_features=2, bias=True)\n",
       "  )\n",
       ")"
      ]
     },
     "execution_count": 28,
     "metadata": {},
     "output_type": "execute_result"
    }
   ],
   "source": [
    "model.cuda()"
   ]
  },
  {
   "cell_type": "code",
   "execution_count": 29,
   "metadata": {},
   "outputs": [
    {
     "name": "stdout",
     "output_type": "stream",
     "text": [
      "\tIn Model: input size torch.Size([10, 5]) output size torch.Size([10, 2])\n",
      "\tIn Model: input size torch.Size([10, 5]) \tIn Model: input sizeoutput size torch.Size([10, 2])\n",
      " torch.Size([10, 5]) output size torch.Size([10, 2])\n",
      "Outside: input size torch.Size([30, 5]) output_size torch.Size([30, 2])\n",
      "\tIn Model: input size torch.Size([10, 5]) output size torch.Size([10, 2])\n",
      "\tIn Model: input size\tIn Model: input size  torch.Size([10, 5]) output size torch.Size([10, 2])\n",
      "torch.Size([10, 5]) output size torch.Size([10, 2])\n",
      "Outside: input size torch.Size([30, 5]) output_size torch.Size([30, 2])\n",
      "\tIn Model: input size torch.Size([10, 5]) output size torch.Size([10, 2])\n",
      "\tIn Model: input size torch.Size([10, 5]) \tIn Model: input sizeoutput size torch.Size([10, 2])\n",
      " torch.Size([10, 5]) output size torch.Size([10, 2])\n",
      "Outside: input size torch.Size([30, 5]) output_size torch.Size([30, 2])\n",
      "\tIn Model: input size\tIn Model: input size torch.Size([2, 5]) output size torch.Size([2, 2])\n",
      "\tIn Model: input size  torch.Size([4, 5]) output size torch.Size([4, 2])\n",
      "torch.Size([4, 5]) output size torch.Size([4, 2])\n",
      "Outside: input size torch.Size([10, 5]) output_size torch.Size([10, 2])\n"
     ]
    }
   ],
   "source": [
    "for data in rand_loader:\n",
    "    output = model(Variable(data.cuda()))\n",
    "    print(\"Outside: input size\", data.size(),\n",
    "      \"output_size\", output.size())"
   ]
  },
  {
   "cell_type": "code",
   "execution_count": null,
   "metadata": {},
   "outputs": [],
   "source": []
  }
 ],
 "metadata": {
  "kernelspec": {
   "display_name": "Python 3",
   "language": "python",
   "name": "python3"
  },
  "language_info": {
   "codemirror_mode": {
    "name": "ipython",
    "version": 3
   },
   "file_extension": ".py",
   "mimetype": "text/x-python",
   "name": "python",
   "nbconvert_exporter": "python",
   "pygments_lexer": "ipython3",
   "version": "3.6.5"
  },
  "varInspector": {
   "cols": {
    "lenName": 16,
    "lenType": 16,
    "lenVar": 40
   },
   "kernels_config": {
    "python": {
     "delete_cmd_postfix": "",
     "delete_cmd_prefix": "del ",
     "library": "var_list.py",
     "varRefreshCmd": "print(var_dic_list())"
    },
    "r": {
     "delete_cmd_postfix": ") ",
     "delete_cmd_prefix": "rm(",
     "library": "var_list.r",
     "varRefreshCmd": "cat(var_dic_list()) "
    }
   },
   "types_to_exclude": [
    "module",
    "function",
    "builtin_function_or_method",
    "instance",
    "_Feature"
   ],
   "window_display": false
  }
 },
 "nbformat": 4,
 "nbformat_minor": 2
}
